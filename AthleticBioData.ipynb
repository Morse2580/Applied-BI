{
 "cells": [
  {
   "cell_type": "code",
   "execution_count": 1,
   "metadata": {
    "scrolled": true
   },
   "outputs": [
    {
     "name": "stdout",
     "output_type": "stream",
     "text": [
      "Data\\Olympics_Country.csv\n",
      "Data\\Olympics_Games.csv\n",
      "Data\\Olympic_Athlete_Bio.csv\n",
      "Data\\Olympic_Athlete_Event_Results.csv\n",
      "Data\\Olympic_Results.csv\n",
      "Data\\Pipfile\n"
     ]
    }
   ],
   "source": [
    "import pandas as pd\n",
    "import numpy as np\n",
    "from IPython.display import Image\n",
    "import matplotlib.pyplot as plt\n",
    "import seaborn as sns\n",
    "\n",
    "import os\n",
    "for dirname, _, filenames in os.walk('Data'):\n",
    "    for filename in filenames:\n",
    "        print(os.path.join(dirname, filename))"
   ]
  },
  {
   "cell_type": "markdown",
   "metadata": {},
   "source": [
    "## Data Exploration"
   ]
  },
  {
   "cell_type": "markdown",
   "metadata": {},
   "source": [
    "### Athlete Bio Data"
   ]
  },
  {
   "cell_type": "markdown",
   "metadata": {},
   "source": [
    "##### Primary Key => athleteID"
   ]
  },
  {
   "cell_type": "code",
   "execution_count": 2,
   "metadata": {},
   "outputs": [
    {
     "data": {
      "text/html": [
       "<div>\n",
       "<style scoped>\n",
       "    .dataframe tbody tr th:only-of-type {\n",
       "        vertical-align: middle;\n",
       "    }\n",
       "\n",
       "    .dataframe tbody tr th {\n",
       "        vertical-align: top;\n",
       "    }\n",
       "\n",
       "    .dataframe thead th {\n",
       "        text-align: right;\n",
       "    }\n",
       "</style>\n",
       "<table border=\"1\" class=\"dataframe\">\n",
       "  <thead>\n",
       "    <tr style=\"text-align: right;\">\n",
       "      <th></th>\n",
       "      <th>athlete_id</th>\n",
       "      <th>name</th>\n",
       "      <th>sex</th>\n",
       "      <th>born</th>\n",
       "      <th>height</th>\n",
       "      <th>weight</th>\n",
       "      <th>country</th>\n",
       "      <th>country_noc</th>\n",
       "      <th>description</th>\n",
       "      <th>special_notes</th>\n",
       "    </tr>\n",
       "  </thead>\n",
       "  <tbody>\n",
       "    <tr>\n",
       "      <th>0</th>\n",
       "      <td>16809</td>\n",
       "      <td>Károly Teppert</td>\n",
       "      <td>Male</td>\n",
       "      <td>1891-07-20</td>\n",
       "      <td>na</td>\n",
       "      <td>na</td>\n",
       "      <td>Hungary</td>\n",
       "      <td>HUN</td>\n",
       "      <td>Károly Teppert started competing in cycling in...</td>\n",
       "      <td>na</td>\n",
       "    </tr>\n",
       "    <tr>\n",
       "      <th>1</th>\n",
       "      <td>43737</td>\n",
       "      <td>Andrzej Socharski</td>\n",
       "      <td>Male</td>\n",
       "      <td>1947-08-31</td>\n",
       "      <td>173.0</td>\n",
       "      <td>72</td>\n",
       "      <td>Poland</td>\n",
       "      <td>POL</td>\n",
       "      <td>na</td>\n",
       "      <td>Listed in Olympians Who Won a Medal at the Wor...</td>\n",
       "    </tr>\n",
       "    <tr>\n",
       "      <th>2</th>\n",
       "      <td>50147</td>\n",
       "      <td>Nathalie Wunderlich</td>\n",
       "      <td>Female</td>\n",
       "      <td>1971-06-03</td>\n",
       "      <td>170.0</td>\n",
       "      <td>50</td>\n",
       "      <td>Switzerland</td>\n",
       "      <td>SUI</td>\n",
       "      <td>na</td>\n",
       "      <td>na</td>\n",
       "    </tr>\n",
       "    <tr>\n",
       "      <th>3</th>\n",
       "      <td>5085</td>\n",
       "      <td>Miha Lokar</td>\n",
       "      <td>Male</td>\n",
       "      <td>1935-09-10</td>\n",
       "      <td>182.0</td>\n",
       "      <td>76</td>\n",
       "      <td>Yugoslavia</td>\n",
       "      <td>YUG</td>\n",
       "      <td>na</td>\n",
       "      <td>Listed in Olympians Who Won a Medal at the Eur...</td>\n",
       "    </tr>\n",
       "    <tr>\n",
       "      <th>4</th>\n",
       "      <td>136329</td>\n",
       "      <td>Austin Hack</td>\n",
       "      <td>Male</td>\n",
       "      <td>1992-05-17</td>\n",
       "      <td>203.0</td>\n",
       "      <td>100</td>\n",
       "      <td>United States</td>\n",
       "      <td>USA</td>\n",
       "      <td>na</td>\n",
       "      <td>na</td>\n",
       "    </tr>\n",
       "  </tbody>\n",
       "</table>\n",
       "</div>"
      ],
      "text/plain": [
       "   athlete_id                 name     sex        born height weight  \\\n",
       "0       16809       Károly Teppert    Male  1891-07-20     na     na   \n",
       "1       43737    Andrzej Socharski    Male  1947-08-31  173.0     72   \n",
       "2       50147  Nathalie Wunderlich  Female  1971-06-03  170.0     50   \n",
       "3        5085           Miha Lokar    Male  1935-09-10  182.0     76   \n",
       "4      136329          Austin Hack    Male  1992-05-17  203.0    100   \n",
       "\n",
       "          country country_noc  \\\n",
       "0         Hungary         HUN   \n",
       "1          Poland         POL   \n",
       "2     Switzerland         SUI   \n",
       "3      Yugoslavia         YUG   \n",
       "4   United States         USA   \n",
       "\n",
       "                                         description  \\\n",
       "0  Károly Teppert started competing in cycling in...   \n",
       "1                                                 na   \n",
       "2                                                 na   \n",
       "3                                                 na   \n",
       "4                                                 na   \n",
       "\n",
       "                                       special_notes  \n",
       "0                                                 na  \n",
       "1  Listed in Olympians Who Won a Medal at the Wor...  \n",
       "2                                                 na  \n",
       "3  Listed in Olympians Who Won a Medal at the Eur...  \n",
       "4                                                 na  "
      ]
     },
     "execution_count": 2,
     "metadata": {},
     "output_type": "execute_result"
    }
   ],
   "source": [
    "path_Olympic_Athlete_BIO =\"Data\\Olympic_Athlete_BIO.csv\"\n",
    "Athlete_Bio = pd.read_csv(path_Olympic_Athlete_BIO, sep = \",\")\n",
    "Athlete_Bio.head()"
   ]
  },
  {
   "cell_type": "code",
   "execution_count": 3,
   "metadata": {},
   "outputs": [
    {
     "data": {
      "text/html": [
       "<div>\n",
       "<style scoped>\n",
       "    .dataframe tbody tr th:only-of-type {\n",
       "        vertical-align: middle;\n",
       "    }\n",
       "\n",
       "    .dataframe tbody tr th {\n",
       "        vertical-align: top;\n",
       "    }\n",
       "\n",
       "    .dataframe thead th {\n",
       "        text-align: right;\n",
       "    }\n",
       "</style>\n",
       "<table border=\"1\" class=\"dataframe\">\n",
       "  <thead>\n",
       "    <tr style=\"text-align: right;\">\n",
       "      <th></th>\n",
       "      <th>athlete_id</th>\n",
       "      <th>name</th>\n",
       "      <th>sex</th>\n",
       "      <th>born</th>\n",
       "      <th>height</th>\n",
       "      <th>weight</th>\n",
       "      <th>country</th>\n",
       "      <th>country_noc</th>\n",
       "    </tr>\n",
       "  </thead>\n",
       "  <tbody>\n",
       "    <tr>\n",
       "      <th>0</th>\n",
       "      <td>16809</td>\n",
       "      <td>Károly Teppert</td>\n",
       "      <td>Male</td>\n",
       "      <td>1891-07-20</td>\n",
       "      <td>na</td>\n",
       "      <td>na</td>\n",
       "      <td>Hungary</td>\n",
       "      <td>HUN</td>\n",
       "    </tr>\n",
       "    <tr>\n",
       "      <th>1</th>\n",
       "      <td>43737</td>\n",
       "      <td>Andrzej Socharski</td>\n",
       "      <td>Male</td>\n",
       "      <td>1947-08-31</td>\n",
       "      <td>173.0</td>\n",
       "      <td>72</td>\n",
       "      <td>Poland</td>\n",
       "      <td>POL</td>\n",
       "    </tr>\n",
       "    <tr>\n",
       "      <th>2</th>\n",
       "      <td>50147</td>\n",
       "      <td>Nathalie Wunderlich</td>\n",
       "      <td>Female</td>\n",
       "      <td>1971-06-03</td>\n",
       "      <td>170.0</td>\n",
       "      <td>50</td>\n",
       "      <td>Switzerland</td>\n",
       "      <td>SUI</td>\n",
       "    </tr>\n",
       "    <tr>\n",
       "      <th>3</th>\n",
       "      <td>5085</td>\n",
       "      <td>Miha Lokar</td>\n",
       "      <td>Male</td>\n",
       "      <td>1935-09-10</td>\n",
       "      <td>182.0</td>\n",
       "      <td>76</td>\n",
       "      <td>Yugoslavia</td>\n",
       "      <td>YUG</td>\n",
       "    </tr>\n",
       "    <tr>\n",
       "      <th>4</th>\n",
       "      <td>136329</td>\n",
       "      <td>Austin Hack</td>\n",
       "      <td>Male</td>\n",
       "      <td>1992-05-17</td>\n",
       "      <td>203.0</td>\n",
       "      <td>100</td>\n",
       "      <td>United States</td>\n",
       "      <td>USA</td>\n",
       "    </tr>\n",
       "  </tbody>\n",
       "</table>\n",
       "</div>"
      ],
      "text/plain": [
       "   athlete_id                 name     sex        born height weight  \\\n",
       "0       16809       Károly Teppert    Male  1891-07-20     na     na   \n",
       "1       43737    Andrzej Socharski    Male  1947-08-31  173.0     72   \n",
       "2       50147  Nathalie Wunderlich  Female  1971-06-03  170.0     50   \n",
       "3        5085           Miha Lokar    Male  1935-09-10  182.0     76   \n",
       "4      136329          Austin Hack    Male  1992-05-17  203.0    100   \n",
       "\n",
       "          country country_noc  \n",
       "0         Hungary         HUN  \n",
       "1          Poland         POL  \n",
       "2     Switzerland         SUI  \n",
       "3      Yugoslavia         YUG  \n",
       "4   United States         USA  "
      ]
     },
     "execution_count": 3,
     "metadata": {},
     "output_type": "execute_result"
    }
   ],
   "source": [
    "# Drop Description and Special Notes as they will not be necessary\n",
    "AB = Athlete_Bio.drop(columns = ['description','special_notes'])\n",
    "AB.head()"
   ]
  },
  {
   "cell_type": "markdown",
   "metadata": {},
   "source": [
    "#### Missing Values"
   ]
  },
  {
   "cell_type": "code",
   "execution_count": 4,
   "metadata": {},
   "outputs": [
    {
     "name": "stdout",
     "output_type": "stream",
     "text": [
      "<class 'pandas.core.frame.DataFrame'>\n",
      "RangeIndex: 155031 entries, 0 to 155030\n",
      "Data columns (total 8 columns):\n",
      " #   Column       Non-Null Count   Dtype \n",
      "---  ------       --------------   ----- \n",
      " 0   athlete_id   155031 non-null  int64 \n",
      " 1   name         155031 non-null  object\n",
      " 2   sex          155031 non-null  object\n",
      " 3   born         155031 non-null  object\n",
      " 4   height       155031 non-null  object\n",
      " 5   weight       155031 non-null  object\n",
      " 6   country      155031 non-null  object\n",
      " 7   country_noc  155031 non-null  object\n",
      "dtypes: int64(1), object(7)\n",
      "memory usage: 9.5+ MB\n"
     ]
    }
   ],
   "source": [
    "AB.info()"
   ]
  },
  {
   "cell_type": "markdown",
   "metadata": {},
   "source": [
    "#### Duplicate values"
   ]
  },
  {
   "cell_type": "code",
   "execution_count": 5,
   "metadata": {},
   "outputs": [
    {
     "data": {
      "text/plain": [
       "(155031, 8)"
      ]
     },
     "execution_count": 5,
     "metadata": {},
     "output_type": "execute_result"
    }
   ],
   "source": [
    "AB.shape"
   ]
  },
  {
   "cell_type": "code",
   "execution_count": 6,
   "metadata": {},
   "outputs": [
    {
     "data": {
      "text/plain": [
       "(151955,)"
      ]
     },
     "execution_count": 6,
     "metadata": {},
     "output_type": "execute_result"
    }
   ],
   "source": [
    "AB['name'].unique().shape"
   ]
  },
  {
   "cell_type": "markdown",
   "metadata": {},
   "source": [
    "As we can see in the above count of the rows, there is a difference in the count, which may suggest that there may be duplicate names in the data. This however may not be the case as the athlete id has distinct values.\n",
    "\n",
    "#### QS: Do we drop the duplicate name values?"
   ]
  },
  {
   "cell_type": "markdown",
   "metadata": {},
   "source": [
    "#### Not available as value, Height and Weight"
   ]
  },
  {
   "cell_type": "code",
   "execution_count": 7,
   "metadata": {},
   "outputs": [
    {
     "data": {
      "text/html": [
       "<div>\n",
       "<style scoped>\n",
       "    .dataframe tbody tr th:only-of-type {\n",
       "        vertical-align: middle;\n",
       "    }\n",
       "\n",
       "    .dataframe tbody tr th {\n",
       "        vertical-align: top;\n",
       "    }\n",
       "\n",
       "    .dataframe thead th {\n",
       "        text-align: right;\n",
       "    }\n",
       "</style>\n",
       "<table border=\"1\" class=\"dataframe\">\n",
       "  <thead>\n",
       "    <tr style=\"text-align: right;\">\n",
       "      <th></th>\n",
       "      <th>athlete_id</th>\n",
       "      <th>name</th>\n",
       "      <th>sex</th>\n",
       "      <th>born</th>\n",
       "      <th>height</th>\n",
       "      <th>weight</th>\n",
       "      <th>country</th>\n",
       "      <th>country_noc</th>\n",
       "    </tr>\n",
       "  </thead>\n",
       "  <tbody>\n",
       "    <tr>\n",
       "      <th>0</th>\n",
       "      <td>16809</td>\n",
       "      <td>Károly Teppert</td>\n",
       "      <td>Male</td>\n",
       "      <td>1891-07-20</td>\n",
       "      <td>na</td>\n",
       "      <td>na</td>\n",
       "      <td>Hungary</td>\n",
       "      <td>HUN</td>\n",
       "    </tr>\n",
       "    <tr>\n",
       "      <th>6</th>\n",
       "      <td>24791</td>\n",
       "      <td>Saad Rashed</td>\n",
       "      <td>Male</td>\n",
       "      <td>1928-11-20</td>\n",
       "      <td>na</td>\n",
       "      <td>na</td>\n",
       "      <td>Egypt</td>\n",
       "      <td>EGY</td>\n",
       "    </tr>\n",
       "    <tr>\n",
       "      <th>9</th>\n",
       "      <td>74076</td>\n",
       "      <td>Hassan Illiassou</td>\n",
       "      <td>Male</td>\n",
       "      <td>1966-09-22</td>\n",
       "      <td>na</td>\n",
       "      <td>na</td>\n",
       "      <td>Niger</td>\n",
       "      <td>NIG</td>\n",
       "    </tr>\n",
       "    <tr>\n",
       "      <th>12</th>\n",
       "      <td>35720</td>\n",
       "      <td>Achille Mengé</td>\n",
       "      <td>Male</td>\n",
       "      <td>na</td>\n",
       "      <td>na</td>\n",
       "      <td>na</td>\n",
       "      <td>Belgium</td>\n",
       "      <td>BEL</td>\n",
       "    </tr>\n",
       "    <tr>\n",
       "      <th>14</th>\n",
       "      <td>142137</td>\n",
       "      <td>Nanna Skodborg Merrald</td>\n",
       "      <td>Female</td>\n",
       "      <td>1993-10-08</td>\n",
       "      <td>na</td>\n",
       "      <td>na</td>\n",
       "      <td>Denmark</td>\n",
       "      <td>DEN</td>\n",
       "    </tr>\n",
       "    <tr>\n",
       "      <th>...</th>\n",
       "      <td>...</td>\n",
       "      <td>...</td>\n",
       "      <td>...</td>\n",
       "      <td>...</td>\n",
       "      <td>...</td>\n",
       "      <td>...</td>\n",
       "      <td>...</td>\n",
       "      <td>...</td>\n",
       "    </tr>\n",
       "    <tr>\n",
       "      <th>155013</th>\n",
       "      <td>19515</td>\n",
       "      <td>Jo Myeong-Jun</td>\n",
       "      <td>Male</td>\n",
       "      <td>1970-07-29</td>\n",
       "      <td>na</td>\n",
       "      <td>na</td>\n",
       "      <td>People's Republic of China  Republic of Korea</td>\n",
       "      <td>CHN</td>\n",
       "    </tr>\n",
       "    <tr>\n",
       "      <th>155014</th>\n",
       "      <td>25572</td>\n",
       "      <td>Ioannis Andrianopoulos</td>\n",
       "      <td>Male</td>\n",
       "      <td>1900-01-01</td>\n",
       "      <td>na</td>\n",
       "      <td>na</td>\n",
       "      <td>Greece</td>\n",
       "      <td>GRE</td>\n",
       "    </tr>\n",
       "    <tr>\n",
       "      <th>155018</th>\n",
       "      <td>51182</td>\n",
       "      <td>Frances Schroth</td>\n",
       "      <td>Female</td>\n",
       "      <td>1893-04-11</td>\n",
       "      <td>na</td>\n",
       "      <td>na</td>\n",
       "      <td>United States</td>\n",
       "      <td>USA</td>\n",
       "    </tr>\n",
       "    <tr>\n",
       "      <th>155019</th>\n",
       "      <td>146786</td>\n",
       "      <td>Gabriel Gerald Geay</td>\n",
       "      <td>Male</td>\n",
       "      <td>1996-09-10</td>\n",
       "      <td>na</td>\n",
       "      <td>na</td>\n",
       "      <td>United Republic of Tanzania</td>\n",
       "      <td>TAN</td>\n",
       "    </tr>\n",
       "    <tr>\n",
       "      <th>155027</th>\n",
       "      <td>701697</td>\n",
       "      <td>Hendrik Mangelaar Meertens</td>\n",
       "      <td>Male</td>\n",
       "      <td>1908-09-30</td>\n",
       "      <td>na</td>\n",
       "      <td>na</td>\n",
       "      <td>Netherlands</td>\n",
       "      <td>NED</td>\n",
       "    </tr>\n",
       "  </tbody>\n",
       "</table>\n",
       "<p>50547 rows × 8 columns</p>\n",
       "</div>"
      ],
      "text/plain": [
       "        athlete_id                        name     sex        born height  \\\n",
       "0            16809              Károly Teppert    Male  1891-07-20     na   \n",
       "6            24791                 Saad Rashed    Male  1928-11-20     na   \n",
       "9            74076            Hassan Illiassou    Male  1966-09-22     na   \n",
       "12           35720               Achille Mengé    Male          na     na   \n",
       "14          142137      Nanna Skodborg Merrald  Female  1993-10-08     na   \n",
       "...            ...                         ...     ...         ...    ...   \n",
       "155013       19515               Jo Myeong-Jun    Male  1970-07-29     na   \n",
       "155014       25572      Ioannis Andrianopoulos    Male  1900-01-01     na   \n",
       "155018       51182             Frances Schroth  Female  1893-04-11     na   \n",
       "155019      146786         Gabriel Gerald Geay    Male  1996-09-10     na   \n",
       "155027      701697  Hendrik Mangelaar Meertens    Male  1908-09-30     na   \n",
       "\n",
       "       weight                                         country country_noc  \n",
       "0          na                                         Hungary         HUN  \n",
       "6          na                                           Egypt         EGY  \n",
       "9          na                                           Niger         NIG  \n",
       "12         na                                         Belgium         BEL  \n",
       "14         na                                         Denmark         DEN  \n",
       "...       ...                                             ...         ...  \n",
       "155013     na   People's Republic of China  Republic of Korea         CHN  \n",
       "155014     na                                          Greece         GRE  \n",
       "155018     na                                   United States         USA  \n",
       "155019     na                     United Republic of Tanzania         TAN  \n",
       "155027     na                                     Netherlands         NED  \n",
       "\n",
       "[50547 rows x 8 columns]"
      ]
     },
     "execution_count": 7,
     "metadata": {},
     "output_type": "execute_result"
    }
   ],
   "source": [
    "not_availableAB = AB.loc[np.logical_and(AB['height'] == 'na', AB['weight'] == 'na')]\n",
    "not_availableAB"
   ]
  },
  {
   "cell_type": "markdown",
   "metadata": {},
   "source": [
    "The data has 50547 not available number for weight and height. This shows that a third of the data is missing for the height and weight.\n",
    "Due to lack of a business case, we still  have to estimate the necessity of these two columns.\n",
    "\n",
    "\n",
    "There is no need to look for an outlier as this data represents the BIO of a player, outliers cannot take effect in this data.\n",
    "Medals per country per sport per per addition of olympics per athleter per gender"
   ]
  },
  {
   "cell_type": "markdown",
   "metadata": {},
   "source": [
    "#### Ratio Gender"
   ]
  },
  {
   "cell_type": "code",
   "execution_count": 8,
   "metadata": {},
   "outputs": [
    {
     "data": {
      "text/plain": [
       "Male      114755\n",
       "Female     40276\n",
       "Name: sex, dtype: int64"
      ]
     },
     "execution_count": 8,
     "metadata": {},
     "output_type": "execute_result"
    }
   ],
   "source": [
    "AB[\"sex\"].value_counts()"
   ]
  },
  {
   "cell_type": "code",
   "execution_count": null,
   "metadata": {},
   "outputs": [],
   "source": []
  }
 ],
 "metadata": {
  "kernelspec": {
   "display_name": "Python 3",
   "language": "python",
   "name": "python3"
  },
  "language_info": {
   "codemirror_mode": {
    "name": "ipython",
    "version": 3
   },
   "file_extension": ".py",
   "mimetype": "text/x-python",
   "name": "python",
   "nbconvert_exporter": "python",
   "pygments_lexer": "ipython3",
   "version": "3.8.5"
  }
 },
 "nbformat": 4,
 "nbformat_minor": 5
}
