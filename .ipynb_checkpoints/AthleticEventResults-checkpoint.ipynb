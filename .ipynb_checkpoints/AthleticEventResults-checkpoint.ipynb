{
 "cells": [
  {
   "cell_type": "code",
   "execution_count": 33,
   "id": "05b68a9d",
   "metadata": {
    "scrolled": true
   },
   "outputs": [
    {
     "name": "stdout",
     "output_type": "stream",
     "text": [
      "Data\\Olympics_Country.csv\n",
      "Data\\Olympics_Games.csv\n",
      "Data\\Olympic_Athlete_Bio.csv\n",
      "Data\\Olympic_Athlete_Event_Results.csv\n",
      "Data\\Olympic_Results.csv\n",
      "Data\\Pipfile\n"
     ]
    }
   ],
   "source": [
    "import pandas as pd\n",
    "import numpy as np\n",
    "from IPython.display import Image\n",
    "import matplotlib.pyplot as plt\n",
    "import seaborn as sns\n",
    "\n",
    "import os\n",
    "for dirname, _, filenames in os.walk('Data'):\n",
    "    for filename in filenames:\n",
    "        print(os.path.join(dirname, filename))"
   ]
  },
  {
   "cell_type": "code",
   "execution_count": 2,
   "id": "6c0c0925",
   "metadata": {},
   "outputs": [],
   "source": [
    "path_Olympic_OlympicsCountry =\"Data\\Olympic_Athlete_BIO\\Olympic_Country\"\n",
    "path_Olympic_OlympicGames =\"Data\\Olympic_Athlete_BIO\\Olympic_Games\""
   ]
  },
  {
   "cell_type": "markdown",
   "id": "5b1c9e38",
   "metadata": {},
   "source": [
    "## Data Exploration"
   ]
  },
  {
   "cell_type": "markdown",
   "id": "cb32b880",
   "metadata": {},
   "source": [
    "### Athlete Bio Data"
   ]
  },
  {
   "cell_type": "markdown",
   "id": "75322594",
   "metadata": {},
   "source": [
    "##### Primary Key => athleteID"
   ]
  },
  {
   "cell_type": "code",
   "execution_count": 3,
   "id": "e5f9381e",
   "metadata": {},
   "outputs": [
    {
     "data": {
      "text/html": [
       "<div>\n",
       "<style scoped>\n",
       "    .dataframe tbody tr th:only-of-type {\n",
       "        vertical-align: middle;\n",
       "    }\n",
       "\n",
       "    .dataframe tbody tr th {\n",
       "        vertical-align: top;\n",
       "    }\n",
       "\n",
       "    .dataframe thead th {\n",
       "        text-align: right;\n",
       "    }\n",
       "</style>\n",
       "<table border=\"1\" class=\"dataframe\">\n",
       "  <thead>\n",
       "    <tr style=\"text-align: right;\">\n",
       "      <th></th>\n",
       "      <th>athlete_id</th>\n",
       "      <th>name</th>\n",
       "      <th>sex</th>\n",
       "      <th>born</th>\n",
       "      <th>height</th>\n",
       "      <th>weight</th>\n",
       "      <th>country</th>\n",
       "      <th>country_noc</th>\n",
       "      <th>description</th>\n",
       "      <th>special_notes</th>\n",
       "    </tr>\n",
       "  </thead>\n",
       "  <tbody>\n",
       "    <tr>\n",
       "      <th>0</th>\n",
       "      <td>16809</td>\n",
       "      <td>Károly Teppert</td>\n",
       "      <td>Male</td>\n",
       "      <td>1891-07-20</td>\n",
       "      <td>na</td>\n",
       "      <td>na</td>\n",
       "      <td>Hungary</td>\n",
       "      <td>HUN</td>\n",
       "      <td>Károly Teppert started competing in cycling in...</td>\n",
       "      <td>na</td>\n",
       "    </tr>\n",
       "    <tr>\n",
       "      <th>1</th>\n",
       "      <td>43737</td>\n",
       "      <td>Andrzej Socharski</td>\n",
       "      <td>Male</td>\n",
       "      <td>1947-08-31</td>\n",
       "      <td>173.0</td>\n",
       "      <td>72</td>\n",
       "      <td>Poland</td>\n",
       "      <td>POL</td>\n",
       "      <td>na</td>\n",
       "      <td>Listed in Olympians Who Won a Medal at the Wor...</td>\n",
       "    </tr>\n",
       "    <tr>\n",
       "      <th>2</th>\n",
       "      <td>50147</td>\n",
       "      <td>Nathalie Wunderlich</td>\n",
       "      <td>Female</td>\n",
       "      <td>1971-06-03</td>\n",
       "      <td>170.0</td>\n",
       "      <td>50</td>\n",
       "      <td>Switzerland</td>\n",
       "      <td>SUI</td>\n",
       "      <td>na</td>\n",
       "      <td>na</td>\n",
       "    </tr>\n",
       "    <tr>\n",
       "      <th>3</th>\n",
       "      <td>5085</td>\n",
       "      <td>Miha Lokar</td>\n",
       "      <td>Male</td>\n",
       "      <td>1935-09-10</td>\n",
       "      <td>182.0</td>\n",
       "      <td>76</td>\n",
       "      <td>Yugoslavia</td>\n",
       "      <td>YUG</td>\n",
       "      <td>na</td>\n",
       "      <td>Listed in Olympians Who Won a Medal at the Eur...</td>\n",
       "    </tr>\n",
       "    <tr>\n",
       "      <th>4</th>\n",
       "      <td>136329</td>\n",
       "      <td>Austin Hack</td>\n",
       "      <td>Male</td>\n",
       "      <td>1992-05-17</td>\n",
       "      <td>203.0</td>\n",
       "      <td>100</td>\n",
       "      <td>United States</td>\n",
       "      <td>USA</td>\n",
       "      <td>na</td>\n",
       "      <td>na</td>\n",
       "    </tr>\n",
       "  </tbody>\n",
       "</table>\n",
       "</div>"
      ],
      "text/plain": [
       "   athlete_id                 name     sex        born height weight  \\\n",
       "0       16809       Károly Teppert    Male  1891-07-20     na     na   \n",
       "1       43737    Andrzej Socharski    Male  1947-08-31  173.0     72   \n",
       "2       50147  Nathalie Wunderlich  Female  1971-06-03  170.0     50   \n",
       "3        5085           Miha Lokar    Male  1935-09-10  182.0     76   \n",
       "4      136329          Austin Hack    Male  1992-05-17  203.0    100   \n",
       "\n",
       "          country country_noc  \\\n",
       "0         Hungary         HUN   \n",
       "1          Poland         POL   \n",
       "2     Switzerland         SUI   \n",
       "3      Yugoslavia         YUG   \n",
       "4   United States         USA   \n",
       "\n",
       "                                         description  \\\n",
       "0  Károly Teppert started competing in cycling in...   \n",
       "1                                                 na   \n",
       "2                                                 na   \n",
       "3                                                 na   \n",
       "4                                                 na   \n",
       "\n",
       "                                       special_notes  \n",
       "0                                                 na  \n",
       "1  Listed in Olympians Who Won a Medal at the Wor...  \n",
       "2                                                 na  \n",
       "3  Listed in Olympians Who Won a Medal at the Eur...  \n",
       "4                                                 na  "
      ]
     },
     "execution_count": 3,
     "metadata": {},
     "output_type": "execute_result"
    }
   ],
   "source": [
    "path_Olympic_Athlete_BIO =\"Data\\Olympic_Athlete_BIO.csv\"\n",
    "Athlete_Bio = pd.read_csv(path_Olympic_Athlete_BIO, sep = \",\")\n",
    "Athlete_Bio.head()"
   ]
  },
  {
   "cell_type": "code",
   "execution_count": 4,
   "id": "b4ade72f",
   "metadata": {},
   "outputs": [
    {
     "data": {
      "text/html": [
       "<div>\n",
       "<style scoped>\n",
       "    .dataframe tbody tr th:only-of-type {\n",
       "        vertical-align: middle;\n",
       "    }\n",
       "\n",
       "    .dataframe tbody tr th {\n",
       "        vertical-align: top;\n",
       "    }\n",
       "\n",
       "    .dataframe thead th {\n",
       "        text-align: right;\n",
       "    }\n",
       "</style>\n",
       "<table border=\"1\" class=\"dataframe\">\n",
       "  <thead>\n",
       "    <tr style=\"text-align: right;\">\n",
       "      <th></th>\n",
       "      <th>athlete_id</th>\n",
       "      <th>name</th>\n",
       "      <th>sex</th>\n",
       "      <th>born</th>\n",
       "      <th>height</th>\n",
       "      <th>weight</th>\n",
       "      <th>country</th>\n",
       "      <th>country_noc</th>\n",
       "    </tr>\n",
       "  </thead>\n",
       "  <tbody>\n",
       "    <tr>\n",
       "      <th>0</th>\n",
       "      <td>16809</td>\n",
       "      <td>Károly Teppert</td>\n",
       "      <td>Male</td>\n",
       "      <td>1891-07-20</td>\n",
       "      <td>na</td>\n",
       "      <td>na</td>\n",
       "      <td>Hungary</td>\n",
       "      <td>HUN</td>\n",
       "    </tr>\n",
       "    <tr>\n",
       "      <th>1</th>\n",
       "      <td>43737</td>\n",
       "      <td>Andrzej Socharski</td>\n",
       "      <td>Male</td>\n",
       "      <td>1947-08-31</td>\n",
       "      <td>173.0</td>\n",
       "      <td>72</td>\n",
       "      <td>Poland</td>\n",
       "      <td>POL</td>\n",
       "    </tr>\n",
       "    <tr>\n",
       "      <th>2</th>\n",
       "      <td>50147</td>\n",
       "      <td>Nathalie Wunderlich</td>\n",
       "      <td>Female</td>\n",
       "      <td>1971-06-03</td>\n",
       "      <td>170.0</td>\n",
       "      <td>50</td>\n",
       "      <td>Switzerland</td>\n",
       "      <td>SUI</td>\n",
       "    </tr>\n",
       "    <tr>\n",
       "      <th>3</th>\n",
       "      <td>5085</td>\n",
       "      <td>Miha Lokar</td>\n",
       "      <td>Male</td>\n",
       "      <td>1935-09-10</td>\n",
       "      <td>182.0</td>\n",
       "      <td>76</td>\n",
       "      <td>Yugoslavia</td>\n",
       "      <td>YUG</td>\n",
       "    </tr>\n",
       "    <tr>\n",
       "      <th>4</th>\n",
       "      <td>136329</td>\n",
       "      <td>Austin Hack</td>\n",
       "      <td>Male</td>\n",
       "      <td>1992-05-17</td>\n",
       "      <td>203.0</td>\n",
       "      <td>100</td>\n",
       "      <td>United States</td>\n",
       "      <td>USA</td>\n",
       "    </tr>\n",
       "  </tbody>\n",
       "</table>\n",
       "</div>"
      ],
      "text/plain": [
       "   athlete_id                 name     sex        born height weight  \\\n",
       "0       16809       Károly Teppert    Male  1891-07-20     na     na   \n",
       "1       43737    Andrzej Socharski    Male  1947-08-31  173.0     72   \n",
       "2       50147  Nathalie Wunderlich  Female  1971-06-03  170.0     50   \n",
       "3        5085           Miha Lokar    Male  1935-09-10  182.0     76   \n",
       "4      136329          Austin Hack    Male  1992-05-17  203.0    100   \n",
       "\n",
       "          country country_noc  \n",
       "0         Hungary         HUN  \n",
       "1          Poland         POL  \n",
       "2     Switzerland         SUI  \n",
       "3      Yugoslavia         YUG  \n",
       "4   United States         USA  "
      ]
     },
     "execution_count": 4,
     "metadata": {},
     "output_type": "execute_result"
    }
   ],
   "source": [
    "# Drop Description and Special Notes as they will not be necessary\n",
    "AB = Athlete_Bio.drop(columns = ['description','special_notes'])\n",
    "AB.head()"
   ]
  },
  {
   "cell_type": "markdown",
   "id": "442ffe98",
   "metadata": {},
   "source": [
    "#### Missing Values"
   ]
  },
  {
   "cell_type": "code",
   "execution_count": 5,
   "id": "c690dce9",
   "metadata": {},
   "outputs": [
    {
     "name": "stdout",
     "output_type": "stream",
     "text": [
      "<class 'pandas.core.frame.DataFrame'>\n",
      "RangeIndex: 155031 entries, 0 to 155030\n",
      "Data columns (total 8 columns):\n",
      " #   Column       Non-Null Count   Dtype \n",
      "---  ------       --------------   ----- \n",
      " 0   athlete_id   155031 non-null  int64 \n",
      " 1   name         155031 non-null  object\n",
      " 2   sex          155031 non-null  object\n",
      " 3   born         155031 non-null  object\n",
      " 4   height       155031 non-null  object\n",
      " 5   weight       155031 non-null  object\n",
      " 6   country      155031 non-null  object\n",
      " 7   country_noc  155031 non-null  object\n",
      "dtypes: int64(1), object(7)\n",
      "memory usage: 9.5+ MB\n"
     ]
    }
   ],
   "source": [
    "AB.info()"
   ]
  },
  {
   "cell_type": "markdown",
   "id": "b0e852fa",
   "metadata": {},
   "source": [
    "#### Duplicate values"
   ]
  },
  {
   "cell_type": "code",
   "execution_count": 6,
   "id": "81112b6b",
   "metadata": {},
   "outputs": [
    {
     "data": {
      "text/plain": [
       "(155031, 8)"
      ]
     },
     "execution_count": 6,
     "metadata": {},
     "output_type": "execute_result"
    }
   ],
   "source": [
    "AB.shape"
   ]
  },
  {
   "cell_type": "code",
   "execution_count": 7,
   "id": "6c637c67",
   "metadata": {},
   "outputs": [
    {
     "data": {
      "text/plain": [
       "(151955,)"
      ]
     },
     "execution_count": 7,
     "metadata": {},
     "output_type": "execute_result"
    }
   ],
   "source": [
    "AB['name'].unique().shape"
   ]
  },
  {
   "cell_type": "markdown",
   "id": "7a6bfd77",
   "metadata": {},
   "source": [
    "As we can see in the above count of the rows, there is a difference in the count, which may suggest that there may be duplicate names in the data. This however may not be the case as the athlete id has distinct values.\n",
    "\n",
    "#### QS: Do we drop the duplicate name values?"
   ]
  },
  {
   "cell_type": "markdown",
   "id": "4411538a",
   "metadata": {},
   "source": [
    "#### Not available as value, Height and Weight"
   ]
  },
  {
   "cell_type": "code",
   "execution_count": 8,
   "id": "5f451a19",
   "metadata": {},
   "outputs": [
    {
     "data": {
      "text/html": [
       "<div>\n",
       "<style scoped>\n",
       "    .dataframe tbody tr th:only-of-type {\n",
       "        vertical-align: middle;\n",
       "    }\n",
       "\n",
       "    .dataframe tbody tr th {\n",
       "        vertical-align: top;\n",
       "    }\n",
       "\n",
       "    .dataframe thead th {\n",
       "        text-align: right;\n",
       "    }\n",
       "</style>\n",
       "<table border=\"1\" class=\"dataframe\">\n",
       "  <thead>\n",
       "    <tr style=\"text-align: right;\">\n",
       "      <th></th>\n",
       "      <th>athlete_id</th>\n",
       "      <th>name</th>\n",
       "      <th>sex</th>\n",
       "      <th>born</th>\n",
       "      <th>height</th>\n",
       "      <th>weight</th>\n",
       "      <th>country</th>\n",
       "      <th>country_noc</th>\n",
       "    </tr>\n",
       "  </thead>\n",
       "  <tbody>\n",
       "    <tr>\n",
       "      <th>0</th>\n",
       "      <td>16809</td>\n",
       "      <td>Károly Teppert</td>\n",
       "      <td>Male</td>\n",
       "      <td>1891-07-20</td>\n",
       "      <td>na</td>\n",
       "      <td>na</td>\n",
       "      <td>Hungary</td>\n",
       "      <td>HUN</td>\n",
       "    </tr>\n",
       "    <tr>\n",
       "      <th>6</th>\n",
       "      <td>24791</td>\n",
       "      <td>Saad Rashed</td>\n",
       "      <td>Male</td>\n",
       "      <td>1928-11-20</td>\n",
       "      <td>na</td>\n",
       "      <td>na</td>\n",
       "      <td>Egypt</td>\n",
       "      <td>EGY</td>\n",
       "    </tr>\n",
       "    <tr>\n",
       "      <th>9</th>\n",
       "      <td>74076</td>\n",
       "      <td>Hassan Illiassou</td>\n",
       "      <td>Male</td>\n",
       "      <td>1966-09-22</td>\n",
       "      <td>na</td>\n",
       "      <td>na</td>\n",
       "      <td>Niger</td>\n",
       "      <td>NIG</td>\n",
       "    </tr>\n",
       "    <tr>\n",
       "      <th>12</th>\n",
       "      <td>35720</td>\n",
       "      <td>Achille Mengé</td>\n",
       "      <td>Male</td>\n",
       "      <td>na</td>\n",
       "      <td>na</td>\n",
       "      <td>na</td>\n",
       "      <td>Belgium</td>\n",
       "      <td>BEL</td>\n",
       "    </tr>\n",
       "    <tr>\n",
       "      <th>14</th>\n",
       "      <td>142137</td>\n",
       "      <td>Nanna Skodborg Merrald</td>\n",
       "      <td>Female</td>\n",
       "      <td>1993-10-08</td>\n",
       "      <td>na</td>\n",
       "      <td>na</td>\n",
       "      <td>Denmark</td>\n",
       "      <td>DEN</td>\n",
       "    </tr>\n",
       "    <tr>\n",
       "      <th>...</th>\n",
       "      <td>...</td>\n",
       "      <td>...</td>\n",
       "      <td>...</td>\n",
       "      <td>...</td>\n",
       "      <td>...</td>\n",
       "      <td>...</td>\n",
       "      <td>...</td>\n",
       "      <td>...</td>\n",
       "    </tr>\n",
       "    <tr>\n",
       "      <th>155013</th>\n",
       "      <td>19515</td>\n",
       "      <td>Jo Myeong-Jun</td>\n",
       "      <td>Male</td>\n",
       "      <td>1970-07-29</td>\n",
       "      <td>na</td>\n",
       "      <td>na</td>\n",
       "      <td>People's Republic of China  Republic of Korea</td>\n",
       "      <td>CHN</td>\n",
       "    </tr>\n",
       "    <tr>\n",
       "      <th>155014</th>\n",
       "      <td>25572</td>\n",
       "      <td>Ioannis Andrianopoulos</td>\n",
       "      <td>Male</td>\n",
       "      <td>1900-01-01</td>\n",
       "      <td>na</td>\n",
       "      <td>na</td>\n",
       "      <td>Greece</td>\n",
       "      <td>GRE</td>\n",
       "    </tr>\n",
       "    <tr>\n",
       "      <th>155018</th>\n",
       "      <td>51182</td>\n",
       "      <td>Frances Schroth</td>\n",
       "      <td>Female</td>\n",
       "      <td>1893-04-11</td>\n",
       "      <td>na</td>\n",
       "      <td>na</td>\n",
       "      <td>United States</td>\n",
       "      <td>USA</td>\n",
       "    </tr>\n",
       "    <tr>\n",
       "      <th>155019</th>\n",
       "      <td>146786</td>\n",
       "      <td>Gabriel Gerald Geay</td>\n",
       "      <td>Male</td>\n",
       "      <td>1996-09-10</td>\n",
       "      <td>na</td>\n",
       "      <td>na</td>\n",
       "      <td>United Republic of Tanzania</td>\n",
       "      <td>TAN</td>\n",
       "    </tr>\n",
       "    <tr>\n",
       "      <th>155027</th>\n",
       "      <td>701697</td>\n",
       "      <td>Hendrik Mangelaar Meertens</td>\n",
       "      <td>Male</td>\n",
       "      <td>1908-09-30</td>\n",
       "      <td>na</td>\n",
       "      <td>na</td>\n",
       "      <td>Netherlands</td>\n",
       "      <td>NED</td>\n",
       "    </tr>\n",
       "  </tbody>\n",
       "</table>\n",
       "<p>50547 rows × 8 columns</p>\n",
       "</div>"
      ],
      "text/plain": [
       "        athlete_id                        name     sex        born height  \\\n",
       "0            16809              Károly Teppert    Male  1891-07-20     na   \n",
       "6            24791                 Saad Rashed    Male  1928-11-20     na   \n",
       "9            74076            Hassan Illiassou    Male  1966-09-22     na   \n",
       "12           35720               Achille Mengé    Male          na     na   \n",
       "14          142137      Nanna Skodborg Merrald  Female  1993-10-08     na   \n",
       "...            ...                         ...     ...         ...    ...   \n",
       "155013       19515               Jo Myeong-Jun    Male  1970-07-29     na   \n",
       "155014       25572      Ioannis Andrianopoulos    Male  1900-01-01     na   \n",
       "155018       51182             Frances Schroth  Female  1893-04-11     na   \n",
       "155019      146786         Gabriel Gerald Geay    Male  1996-09-10     na   \n",
       "155027      701697  Hendrik Mangelaar Meertens    Male  1908-09-30     na   \n",
       "\n",
       "       weight                                         country country_noc  \n",
       "0          na                                         Hungary         HUN  \n",
       "6          na                                           Egypt         EGY  \n",
       "9          na                                           Niger         NIG  \n",
       "12         na                                         Belgium         BEL  \n",
       "14         na                                         Denmark         DEN  \n",
       "...       ...                                             ...         ...  \n",
       "155013     na   People's Republic of China  Republic of Korea         CHN  \n",
       "155014     na                                          Greece         GRE  \n",
       "155018     na                                   United States         USA  \n",
       "155019     na                     United Republic of Tanzania         TAN  \n",
       "155027     na                                     Netherlands         NED  \n",
       "\n",
       "[50547 rows x 8 columns]"
      ]
     },
     "execution_count": 8,
     "metadata": {},
     "output_type": "execute_result"
    }
   ],
   "source": [
    "not_availableAB = AB.loc[np.logical_and(AB['height'] == 'na', AB['weight'] == 'na')]\n",
    "not_availableAB"
   ]
  },
  {
   "cell_type": "markdown",
   "id": "d9bc2fbc",
   "metadata": {},
   "source": [
    "The data has 50547 not available number for weight and height. This shows that a third of the data is missing for the height and weight.\n",
    "Due to lack of a business case, we still  have to estimate the necessity of these two columns.\n",
    "\n",
    "\n",
    "There is no need to look for an outlier as this data represents the BIO of a player, outliers cannot take effect in this data.\n",
    "Medals per country per sport per per addition of olympics per athleter per gender"
   ]
  },
  {
   "cell_type": "markdown",
   "id": "f7da3ff6",
   "metadata": {},
   "source": [
    "### Athlete Event Results"
   ]
  },
  {
   "cell_type": "markdown",
   "id": "690cbff6",
   "metadata": {},
   "source": [
    "##### Primary Key => editionID"
   ]
  },
  {
   "cell_type": "code",
   "execution_count": 9,
   "id": "0be18ab2",
   "metadata": {},
   "outputs": [],
   "source": [
    "path_Olympic_Athlete_EventResults =\"Data\\Olympic_Athlete_Event_Results.csv\""
   ]
  },
  {
   "cell_type": "code",
   "execution_count": 10,
   "id": "c19afe7b",
   "metadata": {},
   "outputs": [
    {
     "data": {
      "text/html": [
       "<div>\n",
       "<style scoped>\n",
       "    .dataframe tbody tr th:only-of-type {\n",
       "        vertical-align: middle;\n",
       "    }\n",
       "\n",
       "    .dataframe tbody tr th {\n",
       "        vertical-align: top;\n",
       "    }\n",
       "\n",
       "    .dataframe thead th {\n",
       "        text-align: right;\n",
       "    }\n",
       "</style>\n",
       "<table border=\"1\" class=\"dataframe\">\n",
       "  <thead>\n",
       "    <tr style=\"text-align: right;\">\n",
       "      <th></th>\n",
       "      <th>edition</th>\n",
       "      <th>edition_id</th>\n",
       "      <th>country_noc</th>\n",
       "      <th>sport</th>\n",
       "      <th>event</th>\n",
       "      <th>result_id</th>\n",
       "      <th>athlete</th>\n",
       "      <th>athlete_id</th>\n",
       "      <th>pos</th>\n",
       "      <th>medal</th>\n",
       "      <th>isTeamSport</th>\n",
       "    </tr>\n",
       "  </thead>\n",
       "  <tbody>\n",
       "    <tr>\n",
       "      <th>0</th>\n",
       "      <td>1908 Summer Olympics</td>\n",
       "      <td>5</td>\n",
       "      <td>ANZ</td>\n",
       "      <td>Athletics</td>\n",
       "      <td>100 metres, Men</td>\n",
       "      <td>56265</td>\n",
       "      <td>Ernest Hutcheon</td>\n",
       "      <td>64710</td>\n",
       "      <td>DNS</td>\n",
       "      <td>na</td>\n",
       "      <td>False</td>\n",
       "    </tr>\n",
       "    <tr>\n",
       "      <th>1</th>\n",
       "      <td>1908 Summer Olympics</td>\n",
       "      <td>5</td>\n",
       "      <td>ANZ</td>\n",
       "      <td>Athletics</td>\n",
       "      <td>400 metres, Men</td>\n",
       "      <td>56313</td>\n",
       "      <td>Henry Murray</td>\n",
       "      <td>64756</td>\n",
       "      <td>DNS</td>\n",
       "      <td>na</td>\n",
       "      <td>False</td>\n",
       "    </tr>\n",
       "    <tr>\n",
       "      <th>2</th>\n",
       "      <td>1908 Summer Olympics</td>\n",
       "      <td>5</td>\n",
       "      <td>ANZ</td>\n",
       "      <td>Athletics</td>\n",
       "      <td>800 metres, Men</td>\n",
       "      <td>56338</td>\n",
       "      <td>Harvey Sutton</td>\n",
       "      <td>64808</td>\n",
       "      <td>3 h8 r1/2</td>\n",
       "      <td>na</td>\n",
       "      <td>False</td>\n",
       "    </tr>\n",
       "    <tr>\n",
       "      <th>3</th>\n",
       "      <td>1908 Summer Olympics</td>\n",
       "      <td>5</td>\n",
       "      <td>ANZ</td>\n",
       "      <td>Athletics</td>\n",
       "      <td>800 metres, Men</td>\n",
       "      <td>56338</td>\n",
       "      <td>Guy Haskins</td>\n",
       "      <td>922519</td>\n",
       "      <td>DNS</td>\n",
       "      <td>na</td>\n",
       "      <td>False</td>\n",
       "    </tr>\n",
       "    <tr>\n",
       "      <th>4</th>\n",
       "      <td>1908 Summer Olympics</td>\n",
       "      <td>5</td>\n",
       "      <td>ANZ</td>\n",
       "      <td>Athletics</td>\n",
       "      <td>800 metres, Men</td>\n",
       "      <td>56338</td>\n",
       "      <td>Joseph Lynch</td>\n",
       "      <td>64735</td>\n",
       "      <td>DNS</td>\n",
       "      <td>na</td>\n",
       "      <td>False</td>\n",
       "    </tr>\n",
       "  </tbody>\n",
       "</table>\n",
       "</div>"
      ],
      "text/plain": [
       "                edition  edition_id country_noc      sport            event  \\\n",
       "0  1908 Summer Olympics           5         ANZ  Athletics  100 metres, Men   \n",
       "1  1908 Summer Olympics           5         ANZ  Athletics  400 metres, Men   \n",
       "2  1908 Summer Olympics           5         ANZ  Athletics  800 metres, Men   \n",
       "3  1908 Summer Olympics           5         ANZ  Athletics  800 metres, Men   \n",
       "4  1908 Summer Olympics           5         ANZ  Athletics  800 metres, Men   \n",
       "\n",
       "   result_id          athlete  athlete_id        pos medal  isTeamSport  \n",
       "0      56265  Ernest Hutcheon       64710        DNS    na        False  \n",
       "1      56313     Henry Murray       64756        DNS    na        False  \n",
       "2      56338    Harvey Sutton       64808  3 h8 r1/2    na        False  \n",
       "3      56338      Guy Haskins      922519        DNS    na        False  \n",
       "4      56338     Joseph Lynch       64735        DNS    na        False  "
      ]
     },
     "execution_count": 10,
     "metadata": {},
     "output_type": "execute_result"
    }
   ],
   "source": [
    "AER = pd.read_csv(path_Olympic_Athlete_EventResults, sep = \",\")\n",
    "AER.head()"
   ]
  },
  {
   "cell_type": "code",
   "execution_count": 11,
   "id": "2abc960a",
   "metadata": {},
   "outputs": [
    {
     "data": {
      "text/plain": [
       "(314907, 11)"
      ]
     },
     "execution_count": 11,
     "metadata": {},
     "output_type": "execute_result"
    }
   ],
   "source": [
    "AER.shape"
   ]
  },
  {
   "cell_type": "markdown",
   "id": "264249c3",
   "metadata": {},
   "source": [
    "### Null values or Not available data"
   ]
  },
  {
   "cell_type": "code",
   "execution_count": 12,
   "id": "2540826d",
   "metadata": {},
   "outputs": [
    {
     "name": "stdout",
     "output_type": "stream",
     "text": [
      "<class 'pandas.core.frame.DataFrame'>\n",
      "RangeIndex: 314907 entries, 0 to 314906\n",
      "Data columns (total 11 columns):\n",
      " #   Column       Non-Null Count   Dtype \n",
      "---  ------       --------------   ----- \n",
      " 0   edition      314907 non-null  object\n",
      " 1   edition_id   314907 non-null  int64 \n",
      " 2   country_noc  314907 non-null  object\n",
      " 3   sport        314907 non-null  object\n",
      " 4   event        314907 non-null  object\n",
      " 5   result_id    314907 non-null  int64 \n",
      " 6   athlete      314907 non-null  object\n",
      " 7   athlete_id   314907 non-null  int64 \n",
      " 8   pos          314907 non-null  object\n",
      " 9   medal        314907 non-null  object\n",
      " 10  isTeamSport  314907 non-null  bool  \n",
      "dtypes: bool(1), int64(3), object(7)\n",
      "memory usage: 24.3+ MB\n"
     ]
    }
   ],
   "source": [
    "AER.info()"
   ]
  },
  {
   "cell_type": "code",
   "execution_count": 13,
   "id": "dc1f08b2",
   "metadata": {},
   "outputs": [
    {
     "data": {
      "text/plain": [
       "Index(['edition', 'edition_id', 'country_noc', 'sport', 'event', 'result_id',\n",
       "       'athlete', 'athlete_id', 'pos', 'medal', 'isTeamSport'],\n",
       "      dtype='object')"
      ]
     },
     "execution_count": 13,
     "metadata": {},
     "output_type": "execute_result"
    }
   ],
   "source": [
    "column_vals_AER = AER.columns\n",
    "column_vals_AER"
   ]
  },
  {
   "cell_type": "markdown",
   "id": "49a99207",
   "metadata": {},
   "source": [
    "##### Medal column"
   ]
  },
  {
   "cell_type": "code",
   "execution_count": 14,
   "id": "2d25f070",
   "metadata": {},
   "outputs": [
    {
     "data": {
      "text/plain": [
       "(270336, 11)"
      ]
     },
     "execution_count": 14,
     "metadata": {},
     "output_type": "execute_result"
    }
   ],
   "source": [
    "AER.loc[AER['medal'] == 'na'].shape"
   ]
  },
  {
   "cell_type": "code",
   "execution_count": 15,
   "id": "db7d1af7",
   "metadata": {},
   "outputs": [
    {
     "data": {
      "text/plain": [
       "array(['na', 'Bronze', 'Silver', 'Gold'], dtype=object)"
      ]
     },
     "execution_count": 15,
     "metadata": {},
     "output_type": "execute_result"
    }
   ],
   "source": [
    "column = pd.unique(AER['medal'])\n",
    "column"
   ]
  },
  {
   "cell_type": "code",
   "execution_count": 16,
   "id": "cfd34752",
   "metadata": {},
   "outputs": [
    {
     "data": {
      "text/plain": [
       "na        270336\n",
       "Gold       15027\n",
       "Bronze     14904\n",
       "Silver     14640\n",
       "Name: medal, dtype: int64"
      ]
     },
     "execution_count": 16,
     "metadata": {},
     "output_type": "execute_result"
    }
   ],
   "source": [
    "AER[\"medal\"].value_counts()"
   ]
  },
  {
   "cell_type": "code",
   "execution_count": 17,
   "id": "663cbbd2",
   "metadata": {},
   "outputs": [
    {
     "data": {
      "image/png": "[encoded data removed]",
      "text/plain": [
       "<Figure size 600x600 with 1 Axes>"
      ]
     },
     "metadata": {},
     "output_type": "display_data"
    }
   ],
   "source": [
    "sizes = [270336,15027, 14904, 14640]\n",
    "labels = ['na', 'Bronze', 'Silver', 'Gold']\n",
    "myexplode = [0.2, 0, 0, 0]\n",
    "plt.figure(figsize = (6, 6))\n",
    "plt.pie(sizes, labels = labels, autopct='%.2f%%',explode=(0.1, 0, 0, 0),\n",
    "        colors=['#D3B9DF','#90DAE0','#33FFA7', '#2451E0'])\n",
    "plt.show()"
   ]
  },
  {
   "cell_type": "markdown",
   "id": "6e45138c",
   "metadata": {},
   "source": [
    "As we can see above, the medal column has an approx. of 86 % data as not available. Accordint to the above diagram, it is safe to say that the largest chunk can be attributed to the people who did not win a medal. The NA values in this case are relevant."
   ]
  },
  {
   "cell_type": "markdown",
   "id": "8ac9e4be",
   "metadata": {},
   "source": [
    "### Data variance "
   ]
  },
  {
   "cell_type": "markdown",
   "id": "439514c9",
   "metadata": {},
   "source": [
    "#### Pos column"
   ]
  },
  {
   "cell_type": "code",
   "execution_count": 18,
   "id": "deaffe30",
   "metadata": {},
   "outputs": [
    {
     "data": {
      "text/html": [
       "<div>\n",
       "<style scoped>\n",
       "    .dataframe tbody tr th:only-of-type {\n",
       "        vertical-align: middle;\n",
       "    }\n",
       "\n",
       "    .dataframe tbody tr th {\n",
       "        vertical-align: top;\n",
       "    }\n",
       "\n",
       "    .dataframe thead th {\n",
       "        text-align: right;\n",
       "    }\n",
       "</style>\n",
       "<table border=\"1\" class=\"dataframe\">\n",
       "  <thead>\n",
       "    <tr style=\"text-align: right;\">\n",
       "      <th></th>\n",
       "      <th>edition</th>\n",
       "      <th>edition_id</th>\n",
       "      <th>country_noc</th>\n",
       "      <th>sport</th>\n",
       "      <th>event</th>\n",
       "      <th>result_id</th>\n",
       "      <th>athlete</th>\n",
       "      <th>athlete_id</th>\n",
       "      <th>pos</th>\n",
       "      <th>medal</th>\n",
       "      <th>isTeamSport</th>\n",
       "    </tr>\n",
       "  </thead>\n",
       "  <tbody>\n",
       "    <tr>\n",
       "      <th>314902</th>\n",
       "      <td>2022 Winter Olympics</td>\n",
       "      <td>62</td>\n",
       "      <td>NED</td>\n",
       "      <td>Bobsleigh</td>\n",
       "      <td>Monobob, Women</td>\n",
       "      <td>19019671</td>\n",
       "      <td>Karlien Sleper</td>\n",
       "      <td>148662</td>\n",
       "      <td>16</td>\n",
       "      <td>na</td>\n",
       "      <td>False</td>\n",
       "    </tr>\n",
       "    <tr>\n",
       "      <th>314903</th>\n",
       "      <td>2022 Winter Olympics</td>\n",
       "      <td>62</td>\n",
       "      <td>SVK</td>\n",
       "      <td>Bobsleigh</td>\n",
       "      <td>Monobob, Women</td>\n",
       "      <td>19019671</td>\n",
       "      <td>Viktória Čerňanská</td>\n",
       "      <td>138683</td>\n",
       "      <td>17</td>\n",
       "      <td>na</td>\n",
       "      <td>False</td>\n",
       "    </tr>\n",
       "    <tr>\n",
       "      <th>314904</th>\n",
       "      <td>2022 Winter Olympics</td>\n",
       "      <td>62</td>\n",
       "      <td>KOR</td>\n",
       "      <td>Bobsleigh</td>\n",
       "      <td>Monobob, Women</td>\n",
       "      <td>19019671</td>\n",
       "      <td>Kim Yu-Ran</td>\n",
       "      <td>137542</td>\n",
       "      <td>18</td>\n",
       "      <td>na</td>\n",
       "      <td>False</td>\n",
       "    </tr>\n",
       "    <tr>\n",
       "      <th>314905</th>\n",
       "      <td>2022 Winter Olympics</td>\n",
       "      <td>62</td>\n",
       "      <td>JAM</td>\n",
       "      <td>Bobsleigh</td>\n",
       "      <td>Monobob, Women</td>\n",
       "      <td>19019671</td>\n",
       "      <td>Jazmine Fenlator-Victorian</td>\n",
       "      <td>128682</td>\n",
       "      <td>19</td>\n",
       "      <td>na</td>\n",
       "      <td>False</td>\n",
       "    </tr>\n",
       "    <tr>\n",
       "      <th>314906</th>\n",
       "      <td>2022 Winter Olympics</td>\n",
       "      <td>62</td>\n",
       "      <td>UKR</td>\n",
       "      <td>Bobsleigh</td>\n",
       "      <td>Monobob, Women</td>\n",
       "      <td>19019671</td>\n",
       "      <td>Lidiya Hunko</td>\n",
       "      <td>149047</td>\n",
       "      <td>20</td>\n",
       "      <td>na</td>\n",
       "      <td>False</td>\n",
       "    </tr>\n",
       "  </tbody>\n",
       "</table>\n",
       "</div>"
      ],
      "text/plain": [
       "                     edition  edition_id country_noc      sport  \\\n",
       "314902  2022 Winter Olympics          62         NED  Bobsleigh   \n",
       "314903  2022 Winter Olympics          62         SVK  Bobsleigh   \n",
       "314904  2022 Winter Olympics          62         KOR  Bobsleigh   \n",
       "314905  2022 Winter Olympics          62         JAM  Bobsleigh   \n",
       "314906  2022 Winter Olympics          62         UKR  Bobsleigh   \n",
       "\n",
       "                 event  result_id                     athlete  athlete_id pos  \\\n",
       "314902  Monobob, Women   19019671              Karlien Sleper      148662  16   \n",
       "314903  Monobob, Women   19019671          Viktória Čerňanská      138683  17   \n",
       "314904  Monobob, Women   19019671                  Kim Yu-Ran      137542  18   \n",
       "314905  Monobob, Women   19019671  Jazmine Fenlator-Victorian      128682  19   \n",
       "314906  Monobob, Women   19019671                Lidiya Hunko      149047  20   \n",
       "\n",
       "       medal  isTeamSport  \n",
       "314902    na        False  \n",
       "314903    na        False  \n",
       "314904    na        False  \n",
       "314905    na        False  \n",
       "314906    na        False  "
      ]
     },
     "execution_count": 18,
     "metadata": {},
     "output_type": "execute_result"
    }
   ],
   "source": [
    "AER.tail()"
   ]
  },
  {
   "cell_type": "code",
   "execution_count": 19,
   "id": "02a9ab91",
   "metadata": {},
   "outputs": [],
   "source": [
    "#[print(i) for i in AER['pos'].unique()]"
   ]
  },
  {
   "cell_type": "code",
   "execution_count": 20,
   "id": "49e1608d",
   "metadata": {},
   "outputs": [
    {
     "data": {
      "image/jpeg": "[encoded data removed]",
      "text/plain": [
       "<IPython.core.display.Image object>"
      ]
     },
     "execution_count": 20,
     "metadata": {
      "image/jpeg": {
       "height": 600,
       "width": 600
      }
     },
     "output_type": "execute_result"
    }
   ],
   "source": [
    "Image(filename= \"Images/Olympics_pic.jpeg\", width =600, height = 600)"
   ]
  },
  {
   "cell_type": "markdown",
   "id": "9426952c",
   "metadata": {},
   "source": [
    "##### The pos column is a bit strange as I cannot interprate the results. => DNS => Did not start."
   ]
  },
  {
   "cell_type": "markdown",
   "id": "818671d7",
   "metadata": {},
   "source": [
    "### Olympic Results\n",
    "\n",
    "The result table is used to keep track of who won, what sport and in which location"
   ]
  },
  {
   "cell_type": "markdown",
   "id": "5c45f31b",
   "metadata": {},
   "source": [
    "##### Primary Key => resultID"
   ]
  },
  {
   "cell_type": "code",
   "execution_count": 21,
   "id": "e4f30dc2",
   "metadata": {},
   "outputs": [],
   "source": [
    "path_Olympic_OlympicResults =\"Data\\Olympic_Results.csv\""
   ]
  },
  {
   "cell_type": "code",
   "execution_count": 22,
   "id": "6685071b",
   "metadata": {},
   "outputs": [
    {
     "data": {
      "text/html": [
       "<div>\n",
       "<style scoped>\n",
       "    .dataframe tbody tr th:only-of-type {\n",
       "        vertical-align: middle;\n",
       "    }\n",
       "\n",
       "    .dataframe tbody tr th {\n",
       "        vertical-align: top;\n",
       "    }\n",
       "\n",
       "    .dataframe thead th {\n",
       "        text-align: right;\n",
       "    }\n",
       "</style>\n",
       "<table border=\"1\" class=\"dataframe\">\n",
       "  <thead>\n",
       "    <tr style=\"text-align: right;\">\n",
       "      <th></th>\n",
       "      <th>result_id</th>\n",
       "      <th>event_title</th>\n",
       "      <th>edition</th>\n",
       "      <th>edition_id</th>\n",
       "      <th>sport</th>\n",
       "      <th>sport_url</th>\n",
       "      <th>result_location</th>\n",
       "      <th>result_participants</th>\n",
       "      <th>result_format</th>\n",
       "      <th>result_detail</th>\n",
       "      <th>result_description</th>\n",
       "      <th>start_date</th>\n",
       "      <th>end_date</th>\n",
       "      <th>time</th>\n",
       "    </tr>\n",
       "  </thead>\n",
       "  <tbody>\n",
       "    <tr>\n",
       "      <th>0</th>\n",
       "      <td>9270</td>\n",
       "      <td>7 metres, 1907 Rating, Open</td>\n",
       "      <td>1920 Summer Olympics</td>\n",
       "      <td>7</td>\n",
       "      <td>Sailing</td>\n",
       "      <td>/editions/7/sports/SAL</td>\n",
       "      <td>Oostende</td>\n",
       "      <td>8 from 2 countries</td>\n",
       "      <td>Three races, with final places decided by tota...</td>\n",
       "      <td>na</td>\n",
       "      <td>There were two yachts competing.  Britain’s An...</td>\n",
       "      <td>1920-07-07</td>\n",
       "      <td>1920-07-09</td>\n",
       "      <td>na</td>\n",
       "    </tr>\n",
       "    <tr>\n",
       "      <th>1</th>\n",
       "      <td>29722</td>\n",
       "      <td>Featherweight (≤60 kilograms), Men</td>\n",
       "      <td>1980 Summer Olympics</td>\n",
       "      <td>20</td>\n",
       "      <td>Weightlifting</td>\n",
       "      <td>/editions/20/sports/WLF</td>\n",
       "      <td>Dvorets sporta Izmaylovo, Moskva</td>\n",
       "      <td>18 from 14 countries</td>\n",
       "      <td>Total of best lifts in snatch and clean &amp; jerk...</td>\n",
       "      <td>na</td>\n",
       "      <td>The favorite was likely Soviet Viktor Mazin wh...</td>\n",
       "      <td>1980-07-22</td>\n",
       "      <td>na</td>\n",
       "      <td>14:00-19:00</td>\n",
       "    </tr>\n",
       "    <tr>\n",
       "      <th>2</th>\n",
       "      <td>54126</td>\n",
       "      <td>Platform, Men</td>\n",
       "      <td>1948 Summer Olympics</td>\n",
       "      <td>12</td>\n",
       "      <td>Diving</td>\n",
       "      <td>/editions/12/sports/DIV</td>\n",
       "      <td>Wembley Arena, Wembley, London</td>\n",
       "      <td>25 from 15 countries</td>\n",
       "      <td>10 metre platform. Final round only. Four comp...</td>\n",
       "      <td>na</td>\n",
       "      <td>Sammy Lee won this event, leading in both the ...</td>\n",
       "      <td>1948-08-04</td>\n",
       "      <td>1948-08-05</td>\n",
       "      <td>na</td>\n",
       "    </tr>\n",
       "    <tr>\n",
       "      <th>3</th>\n",
       "      <td>4684</td>\n",
       "      <td>100 metres Backstroke, Men</td>\n",
       "      <td>1920 Summer Olympics</td>\n",
       "      <td>7</td>\n",
       "      <td>Swimming</td>\n",
       "      <td>/editions/7/sports/SWM</td>\n",
       "      <td>Zwemstadion van Antwerpen, Antwerpen</td>\n",
       "      <td>12 from 6 countries</td>\n",
       "      <td>na</td>\n",
       "      <td>na</td>\n",
       "      <td>Watten Paoa Kealoha set a world record of 1:14...</td>\n",
       "      <td>1920-08-22</td>\n",
       "      <td>1920-08-23</td>\n",
       "      <td>na</td>\n",
       "    </tr>\n",
       "    <tr>\n",
       "      <th>4</th>\n",
       "      <td>1465</td>\n",
       "      <td>Slalom, Men</td>\n",
       "      <td>2002 Winter Olympics</td>\n",
       "      <td>47</td>\n",
       "      <td>Alpine Skiing</td>\n",
       "      <td>/editions/47/sports/ALP</td>\n",
       "      <td>Park City Mountain Resort, Park City, Utah (Kn...</td>\n",
       "      <td>77 from 43 countries</td>\n",
       "      <td>Two runs, total time determined placement.</td>\n",
       "      <td>Jesse Hunt</td>\n",
       "      <td>The last few World Cups had gone to Austrian B...</td>\n",
       "      <td>2002-02-23</td>\n",
       "      <td>na</td>\n",
       "      <td>na</td>\n",
       "    </tr>\n",
       "  </tbody>\n",
       "</table>\n",
       "</div>"
      ],
      "text/plain": [
       "   result_id                         event_title               edition  \\\n",
       "0       9270         7 metres, 1907 Rating, Open  1920 Summer Olympics   \n",
       "1      29722  Featherweight (≤60 kilograms), Men  1980 Summer Olympics   \n",
       "2      54126                       Platform, Men  1948 Summer Olympics   \n",
       "3       4684          100 metres Backstroke, Men  1920 Summer Olympics   \n",
       "4       1465                         Slalom, Men  2002 Winter Olympics   \n",
       "\n",
       "   edition_id          sport                sport_url  \\\n",
       "0           7        Sailing   /editions/7/sports/SAL   \n",
       "1          20  Weightlifting  /editions/20/sports/WLF   \n",
       "2          12         Diving  /editions/12/sports/DIV   \n",
       "3           7       Swimming   /editions/7/sports/SWM   \n",
       "4          47  Alpine Skiing  /editions/47/sports/ALP   \n",
       "\n",
       "                                     result_location   result_participants  \\\n",
       "0                                           Oostende    8 from 2 countries   \n",
       "1                   Dvorets sporta Izmaylovo, Moskva  18 from 14 countries   \n",
       "2                     Wembley Arena, Wembley, London  25 from 15 countries   \n",
       "3               Zwemstadion van Antwerpen, Antwerpen   12 from 6 countries   \n",
       "4  Park City Mountain Resort, Park City, Utah (Kn...  77 from 43 countries   \n",
       "\n",
       "                                       result_format result_detail  \\\n",
       "0  Three races, with final places decided by tota...            na   \n",
       "1  Total of best lifts in snatch and clean & jerk...            na   \n",
       "2  10 metre platform. Final round only. Four comp...            na   \n",
       "3                                                 na            na   \n",
       "4         Two runs, total time determined placement.    Jesse Hunt   \n",
       "\n",
       "                                  result_description  start_date    end_date  \\\n",
       "0  There were two yachts competing.  Britain’s An...  1920-07-07  1920-07-09   \n",
       "1  The favorite was likely Soviet Viktor Mazin wh...  1980-07-22          na   \n",
       "2  Sammy Lee won this event, leading in both the ...  1948-08-04  1948-08-05   \n",
       "3  Watten Paoa Kealoha set a world record of 1:14...  1920-08-22  1920-08-23   \n",
       "4  The last few World Cups had gone to Austrian B...  2002-02-23          na   \n",
       "\n",
       "          time  \n",
       "0           na  \n",
       "1  14:00-19:00  \n",
       "2           na  \n",
       "3           na  \n",
       "4           na  "
      ]
     },
     "execution_count": 22,
     "metadata": {},
     "output_type": "execute_result"
    }
   ],
   "source": [
    "OR = pd.read_csv(path_Olympic_OlympicResults, sep =\",\")\n",
    "OR.head()"
   ]
  },
  {
   "cell_type": "markdown",
   "id": "b81f9fc0",
   "metadata": {},
   "source": [
    "In the above dataset, I would suggest dropping any columns that are not necessary in building a business case. These are:\n",
    "    sport_url, result_participants, result_format, result_description, "
   ]
  },
  {
   "cell_type": "code",
   "execution_count": 23,
   "id": "a6305d4b",
   "metadata": {},
   "outputs": [
    {
     "data": {
      "text/plain": [
       "(1555,)"
      ]
     },
     "execution_count": 23,
     "metadata": {},
     "output_type": "execute_result"
    }
   ],
   "source": [
    "OR[\"event_title\"].unique().shape"
   ]
  },
  {
   "cell_type": "markdown",
   "id": "e86474e3",
   "metadata": {},
   "source": [
    "Seeing that there are more that 1555 event titles, I would consider dropping this column too as a I dont see any "
   ]
  },
  {
   "cell_type": "code",
   "execution_count": 24,
   "id": "866ecf63",
   "metadata": {},
   "outputs": [
    {
     "data": {
      "text/html": [
       "<div>\n",
       "<style scoped>\n",
       "    .dataframe tbody tr th:only-of-type {\n",
       "        vertical-align: middle;\n",
       "    }\n",
       "\n",
       "    .dataframe tbody tr th {\n",
       "        vertical-align: top;\n",
       "    }\n",
       "\n",
       "    .dataframe thead th {\n",
       "        text-align: right;\n",
       "    }\n",
       "</style>\n",
       "<table border=\"1\" class=\"dataframe\">\n",
       "  <thead>\n",
       "    <tr style=\"text-align: right;\">\n",
       "      <th></th>\n",
       "      <th>result_id</th>\n",
       "      <th>edition</th>\n",
       "      <th>edition_id</th>\n",
       "      <th>sport</th>\n",
       "      <th>result_location</th>\n",
       "      <th>result_detail</th>\n",
       "      <th>start_date</th>\n",
       "      <th>end_date</th>\n",
       "      <th>time</th>\n",
       "    </tr>\n",
       "  </thead>\n",
       "  <tbody>\n",
       "    <tr>\n",
       "      <th>0</th>\n",
       "      <td>9270</td>\n",
       "      <td>1920 Summer Olympics</td>\n",
       "      <td>7</td>\n",
       "      <td>Sailing</td>\n",
       "      <td>Oostende</td>\n",
       "      <td>na</td>\n",
       "      <td>1920-07-07</td>\n",
       "      <td>1920-07-09</td>\n",
       "      <td>na</td>\n",
       "    </tr>\n",
       "    <tr>\n",
       "      <th>1</th>\n",
       "      <td>29722</td>\n",
       "      <td>1980 Summer Olympics</td>\n",
       "      <td>20</td>\n",
       "      <td>Weightlifting</td>\n",
       "      <td>Dvorets sporta Izmaylovo, Moskva</td>\n",
       "      <td>na</td>\n",
       "      <td>1980-07-22</td>\n",
       "      <td>na</td>\n",
       "      <td>14:00-19:00</td>\n",
       "    </tr>\n",
       "    <tr>\n",
       "      <th>2</th>\n",
       "      <td>54126</td>\n",
       "      <td>1948 Summer Olympics</td>\n",
       "      <td>12</td>\n",
       "      <td>Diving</td>\n",
       "      <td>Wembley Arena, Wembley, London</td>\n",
       "      <td>na</td>\n",
       "      <td>1948-08-04</td>\n",
       "      <td>1948-08-05</td>\n",
       "      <td>na</td>\n",
       "    </tr>\n",
       "    <tr>\n",
       "      <th>3</th>\n",
       "      <td>4684</td>\n",
       "      <td>1920 Summer Olympics</td>\n",
       "      <td>7</td>\n",
       "      <td>Swimming</td>\n",
       "      <td>Zwemstadion van Antwerpen, Antwerpen</td>\n",
       "      <td>na</td>\n",
       "      <td>1920-08-22</td>\n",
       "      <td>1920-08-23</td>\n",
       "      <td>na</td>\n",
       "    </tr>\n",
       "    <tr>\n",
       "      <th>4</th>\n",
       "      <td>1465</td>\n",
       "      <td>2002 Winter Olympics</td>\n",
       "      <td>47</td>\n",
       "      <td>Alpine Skiing</td>\n",
       "      <td>Park City Mountain Resort, Park City, Utah (Kn...</td>\n",
       "      <td>Jesse Hunt</td>\n",
       "      <td>2002-02-23</td>\n",
       "      <td>na</td>\n",
       "      <td>na</td>\n",
       "    </tr>\n",
       "  </tbody>\n",
       "</table>\n",
       "</div>"
      ],
      "text/plain": [
       "   result_id               edition  edition_id          sport  \\\n",
       "0       9270  1920 Summer Olympics           7        Sailing   \n",
       "1      29722  1980 Summer Olympics          20  Weightlifting   \n",
       "2      54126  1948 Summer Olympics          12         Diving   \n",
       "3       4684  1920 Summer Olympics           7       Swimming   \n",
       "4       1465  2002 Winter Olympics          47  Alpine Skiing   \n",
       "\n",
       "                                     result_location result_detail  \\\n",
       "0                                           Oostende            na   \n",
       "1                   Dvorets sporta Izmaylovo, Moskva            na   \n",
       "2                     Wembley Arena, Wembley, London            na   \n",
       "3               Zwemstadion van Antwerpen, Antwerpen            na   \n",
       "4  Park City Mountain Resort, Park City, Utah (Kn...    Jesse Hunt   \n",
       "\n",
       "   start_date    end_date         time  \n",
       "0  1920-07-07  1920-07-09           na  \n",
       "1  1980-07-22          na  14:00-19:00  \n",
       "2  1948-08-04  1948-08-05           na  \n",
       "3  1920-08-22  1920-08-23           na  \n",
       "4  2002-02-23          na           na  "
      ]
     },
     "execution_count": 24,
     "metadata": {},
     "output_type": "execute_result"
    }
   ],
   "source": [
    "ORmod = OR.drop(columns = ['sport_url', 'result_participants', 'result_format', 'result_description', 'event_title'])\n",
    "ORmod.head()\n",
    "## OR modified"
   ]
  },
  {
   "cell_type": "markdown",
   "id": "63705a29",
   "metadata": {},
   "source": [
    "Here above shoud be IMO the final dataset for the olympic results."
   ]
  },
  {
   "cell_type": "markdown",
   "id": "3f05bcc5",
   "metadata": {},
   "source": [
    "##### Unavailable data\n",
    "StartDate, EndDate and Time"
   ]
  },
  {
   "cell_type": "code",
   "execution_count": 38,
   "id": "b714093b",
   "metadata": {},
   "outputs": [
    {
     "data": {
      "text/html": [
       "<div>\n",
       "<style scoped>\n",
       "    .dataframe tbody tr th:only-of-type {\n",
       "        vertical-align: middle;\n",
       "    }\n",
       "\n",
       "    .dataframe tbody tr th {\n",
       "        vertical-align: top;\n",
       "    }\n",
       "\n",
       "    .dataframe thead th {\n",
       "        text-align: right;\n",
       "    }\n",
       "</style>\n",
       "<table border=\"1\" class=\"dataframe\">\n",
       "  <thead>\n",
       "    <tr style=\"text-align: right;\">\n",
       "      <th></th>\n",
       "      <th>result_id</th>\n",
       "      <th>edition</th>\n",
       "      <th>edition_id</th>\n",
       "      <th>sport</th>\n",
       "      <th>result_location</th>\n",
       "      <th>result_detail</th>\n",
       "      <th>start_date</th>\n",
       "      <th>end_date</th>\n",
       "      <th>time</th>\n",
       "    </tr>\n",
       "  </thead>\n",
       "  <tbody>\n",
       "    <tr>\n",
       "      <th>25</th>\n",
       "      <td>925830</td>\n",
       "      <td>1904 Summer Olympics</td>\n",
       "      <td>3</td>\n",
       "      <td>Athletics</td>\n",
       "      <td>Francis Field, Washington University, St. Louis</td>\n",
       "      <td>na</td>\n",
       "      <td>na</td>\n",
       "      <td>na</td>\n",
       "      <td>na</td>\n",
       "    </tr>\n",
       "    <tr>\n",
       "      <th>267</th>\n",
       "      <td>925825</td>\n",
       "      <td>1904 Summer Olympics</td>\n",
       "      <td>3</td>\n",
       "      <td>Athletics</td>\n",
       "      <td>Francis Field, Washington University, St. Louis</td>\n",
       "      <td>na</td>\n",
       "      <td>na</td>\n",
       "      <td>na</td>\n",
       "      <td>na</td>\n",
       "    </tr>\n",
       "    <tr>\n",
       "      <th>688</th>\n",
       "      <td>925835</td>\n",
       "      <td>1904 Summer Olympics</td>\n",
       "      <td>3</td>\n",
       "      <td>Athletics</td>\n",
       "      <td>Francis Field, Washington University, St. Louis</td>\n",
       "      <td>na</td>\n",
       "      <td>na</td>\n",
       "      <td>na</td>\n",
       "      <td>na</td>\n",
       "    </tr>\n",
       "    <tr>\n",
       "      <th>1574</th>\n",
       "      <td>925993</td>\n",
       "      <td>1904 Summer Olympics</td>\n",
       "      <td>3</td>\n",
       "      <td>Cycling Track</td>\n",
       "      <td>Francis Field, Washington University, St. Louis</td>\n",
       "      <td>na</td>\n",
       "      <td>na</td>\n",
       "      <td>na</td>\n",
       "      <td>na</td>\n",
       "    </tr>\n",
       "    <tr>\n",
       "      <th>1989</th>\n",
       "      <td>925832</td>\n",
       "      <td>1904 Summer Olympics</td>\n",
       "      <td>3</td>\n",
       "      <td>Athletics</td>\n",
       "      <td>Francis Field, Washington University, St. Louis</td>\n",
       "      <td>na</td>\n",
       "      <td>na</td>\n",
       "      <td>na</td>\n",
       "      <td>na</td>\n",
       "    </tr>\n",
       "  </tbody>\n",
       "</table>\n",
       "</div>"
      ],
      "text/plain": [
       "      result_id               edition  edition_id          sport  \\\n",
       "25       925830  1904 Summer Olympics           3      Athletics   \n",
       "267      925825  1904 Summer Olympics           3      Athletics   \n",
       "688      925835  1904 Summer Olympics           3      Athletics   \n",
       "1574     925993  1904 Summer Olympics           3  Cycling Track   \n",
       "1989     925832  1904 Summer Olympics           3      Athletics   \n",
       "\n",
       "                                      result_location result_detail  \\\n",
       "25    Francis Field, Washington University, St. Louis            na   \n",
       "267   Francis Field, Washington University, St. Louis            na   \n",
       "688   Francis Field, Washington University, St. Louis            na   \n",
       "1574  Francis Field, Washington University, St. Louis            na   \n",
       "1989  Francis Field, Washington University, St. Louis            na   \n",
       "\n",
       "     start_date end_date time  \n",
       "25           na       na   na  \n",
       "267          na       na   na  \n",
       "688          na       na   na  \n",
       "1574         na       na   na  \n",
       "1989         na       na   na  "
      ]
     },
     "execution_count": 38,
     "metadata": {},
     "output_type": "execute_result"
    }
   ],
   "source": [
    "naOR = ORmod.loc[np.logical_and(ORmod.start_date == \"na\", ORmod.end_date == \"na\", ORmod.time == \"na\")]\n",
    "naOR.head()"
   ]
  },
  {
   "cell_type": "code",
   "execution_count": 35,
   "id": "c1cd6a64",
   "metadata": {},
   "outputs": [
    {
     "data": {
      "text/plain": [
       "(22, 9)"
      ]
     },
     "execution_count": 35,
     "metadata": {},
     "output_type": "execute_result"
    }
   ],
   "source": [
    "naOR.shape"
   ]
  },
  {
   "cell_type": "code",
   "execution_count": null,
   "id": "2d088470",
   "metadata": {},
   "outputs": [],
   "source": []
  }
 ],
 "metadata": {
  "kernelspec": {
   "display_name": "Python 3 (ipykernel)",
   "language": "python",
   "name": "python3"
  },
  "language_info": {
   "codemirror_mode": {
    "name": "ipython",
    "version": 3
   },
   "file_extension": ".py",
   "mimetype": "text/x-python",
   "name": "python",
   "nbconvert_exporter": "python",
   "pygments_lexer": "ipython3",
   "version": "3.9.1"
  }
 },
 "nbformat": 4,
 "nbformat_minor": 5
}
