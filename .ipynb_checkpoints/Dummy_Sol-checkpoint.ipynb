{
 "cells": [
  {
   "cell_type": "code",
   "execution_count": 3,
   "id": "05b68a9d",
   "metadata": {
    "scrolled": true
   },
   "outputs": [
    {
     "ename": "ModuleNotFoundError",
     "evalue": "No module named 'pandas'",
     "output_type": "error",
     "traceback": [
      "\u001b[1;31m---------------------------------------------------------------------------\u001b[0m",
      "\u001b[1;31mModuleNotFoundError\u001b[0m                       Traceback (most recent call last)",
      "Cell \u001b[1;32mIn [3], line 1\u001b[0m\n\u001b[1;32m----> 1\u001b[0m \u001b[38;5;28;01mimport\u001b[39;00m \u001b[38;5;21;01mpandas\u001b[39;00m \u001b[38;5;28;01mas\u001b[39;00m \u001b[38;5;21;01mpd\u001b[39;00m\n\u001b[0;32m      2\u001b[0m \u001b[38;5;28;01mimport\u001b[39;00m \u001b[38;5;21;01mnumpy\u001b[39;00m \u001b[38;5;28;01mas\u001b[39;00m \u001b[38;5;21;01mnp\u001b[39;00m\n\u001b[0;32m      3\u001b[0m \u001b[38;5;28;01mfrom\u001b[39;00m \u001b[38;5;21;01mIPython\u001b[39;00m\u001b[38;5;21;01m.\u001b[39;00m\u001b[38;5;21;01mdisplay\u001b[39;00m \u001b[38;5;28;01mimport\u001b[39;00m Image\n",
      "\u001b[1;31mModuleNotFoundError\u001b[0m: No module named 'pandas'"
     ]
    }
   ],
   "source": [
    "import pandas as pd\n",
    "import numpy as np\n",
    "from IPython.display import Image\n",
    "import matplotlib.pyplot as plt\n",
    "import seaborn as sns"
   ]
  },
  {
   "cell_type": "markdown",
   "id": "8f2106e8",
   "metadata": {},
   "source": [
    "#### Path to the data\n",
    "Event_Results = pd.read_csv(f\"{path_Olympic_Athlete_EventResults}.csv\", sep = \",\")\n",
    "Olympic_Results = pd.read_csv(f\"{path_Olympic_OlympicResults}.csv\", sep = \",\")\n",
    "Olympics_Results = pd.read_csv(f\"{path_Olympic_OlympicsCountry}.csv\", sep = \",\")\n",
    "Olympic_games = pd.read_csv(f\"{path_Olympic_OlympicGames}.csv\", sep = \",\")"
   ]
  },
  {
   "cell_type": "code",
   "execution_count": null,
   "id": "6c0c0925",
   "metadata": {},
   "outputs": [],
   "source": [
    "path_Olympic_OlympicsCountry =\"Data\\Olympic_Athlete_BIO\\Olympic_Country\"\n",
    "path_Olympic_OlympicGames =\"Data\\Olympic_Athlete_BIO\\Olympic_Games\""
   ]
  },
  {
   "cell_type": "markdown",
   "id": "5b1c9e38",
   "metadata": {},
   "source": [
    "## Data Exploration"
   ]
  },
  {
   "cell_type": "markdown",
   "id": "cb32b880",
   "metadata": {},
   "source": [
    "### Athlete Bio Data"
   ]
  },
  {
   "cell_type": "markdown",
   "id": "75322594",
   "metadata": {},
   "source": [
    "##### Primary Key => athleteID"
   ]
  },
  {
   "cell_type": "code",
   "execution_count": null,
   "id": "e5f9381e",
   "metadata": {},
   "outputs": [],
   "source": [
    "path_Olympic_Athlete_BIO =\"Data\\Olympic_Athlete_BIO.csv\"\n",
    "Athlete_Bio = pd.read_csv(path_Olympic_Athlete_BIO, sep = \",\")\n",
    "Athlete_Bio.head()"
   ]
  },
  {
   "cell_type": "code",
   "execution_count": null,
   "id": "b4ade72f",
   "metadata": {},
   "outputs": [],
   "source": [
    "# Drop Description and Special Notes as they will not be necessary\n",
    "AB = Athlete_Bio.drop(columns = ['description','special_notes'])\n",
    "AB.head()"
   ]
  },
  {
   "cell_type": "markdown",
   "id": "442ffe98",
   "metadata": {},
   "source": [
    "#### Null values"
   ]
  },
  {
   "cell_type": "code",
   "execution_count": null,
   "id": "c690dce9",
   "metadata": {},
   "outputs": [],
   "source": [
    "AB.info()"
   ]
  },
  {
   "cell_type": "markdown",
   "id": "b0e852fa",
   "metadata": {},
   "source": [
    "#### Duplicate values"
   ]
  },
  {
   "cell_type": "code",
   "execution_count": null,
   "id": "81112b6b",
   "metadata": {},
   "outputs": [],
   "source": [
    "AB.shape"
   ]
  },
  {
   "cell_type": "code",
   "execution_count": null,
   "id": "6c637c67",
   "metadata": {},
   "outputs": [],
   "source": [
    "AB['name'].unique().shape"
   ]
  },
  {
   "cell_type": "markdown",
   "id": "7a6bfd77",
   "metadata": {},
   "source": [
    "As we can see in the above count of the rows, there is a difference in the count, which may suggest that there may be duplicate names in the data. This however may not be the case as the athlete id has distinct values.\n",
    "\n",
    "#### QS: Do we drop the duplicate name values?"
   ]
  },
  {
   "cell_type": "markdown",
   "id": "4411538a",
   "metadata": {},
   "source": [
    "#### Not available as value, Height and Weight"
   ]
  },
  {
   "cell_type": "code",
   "execution_count": null,
   "id": "5f451a19",
   "metadata": {},
   "outputs": [],
   "source": [
    "not_availableAB = AB.loc[np.logical_and(AB['height'] == 'na', AB['weight'] == 'na')]\n",
    "not_availableAB"
   ]
  },
  {
   "cell_type": "markdown",
   "id": "d9bc2fbc",
   "metadata": {},
   "source": [
    "The data has 50547 not available number for weight and height. This shows that a third of the data is missing for the height and weight.\n",
    "Due to lack of a business case, we still  have to estimate the necessity of these two columns.\n",
    "\n",
    "\n",
    "There is no need to look for an outlier as this data represents the BIO of a player, outliers cannot take effect in this data.\n",
    "Medals per country per sport per per addition of olympics per athleter per gender"
   ]
  },
  {
   "cell_type": "markdown",
   "id": "f7da3ff6",
   "metadata": {},
   "source": [
    "### Athlete Event Results"
   ]
  },
  {
   "cell_type": "markdown",
   "id": "690cbff6",
   "metadata": {},
   "source": [
    "##### Primary Key => editionID"
   ]
  },
  {
   "cell_type": "code",
   "execution_count": null,
   "id": "0be18ab2",
   "metadata": {},
   "outputs": [],
   "source": [
    "path_Olympic_Athlete_EventResults =\"Data\\Olympic_Athlete_Event_Results.csv\""
   ]
  },
  {
   "cell_type": "code",
   "execution_count": null,
   "id": "c19afe7b",
   "metadata": {},
   "outputs": [],
   "source": [
    "AER = pd.read_csv(path_Olympic_Athlete_EventResults, sep = \",\")\n",
    "AER.head()"
   ]
  },
  {
   "cell_type": "code",
   "execution_count": null,
   "id": "2abc960a",
   "metadata": {},
   "outputs": [],
   "source": [
    "AER.shape"
   ]
  },
  {
   "cell_type": "markdown",
   "id": "264249c3",
   "metadata": {},
   "source": [
    "### Null values or Not available data"
   ]
  },
  {
   "cell_type": "code",
   "execution_count": null,
   "id": "2540826d",
   "metadata": {},
   "outputs": [],
   "source": [
    "AER.info()"
   ]
  },
  {
   "cell_type": "code",
   "execution_count": null,
   "id": "dc1f08b2",
   "metadata": {},
   "outputs": [],
   "source": [
    "column_vals_AER = AER.columns\n",
    "column_vals_AER"
   ]
  },
  {
   "cell_type": "markdown",
   "id": "49a99207",
   "metadata": {},
   "source": [
    "##### Medal column"
   ]
  },
  {
   "cell_type": "code",
   "execution_count": null,
   "id": "2d25f070",
   "metadata": {},
   "outputs": [],
   "source": [
    "AER.loc[AER['medal'] == 'na'].shape"
   ]
  },
  {
   "cell_type": "code",
   "execution_count": null,
   "id": "db7d1af7",
   "metadata": {},
   "outputs": [],
   "source": [
    "column = pd.unique(AER['medal'])\n",
    "column"
   ]
  },
  {
   "cell_type": "code",
   "execution_count": null,
   "id": "cfd34752",
   "metadata": {},
   "outputs": [],
   "source": [
    "AER[\"medal\"].value_counts()"
   ]
  },
  {
   "cell_type": "code",
   "execution_count": null,
   "id": "663cbbd2",
   "metadata": {},
   "outputs": [],
   "source": [
    "sizes = [270336,15027, 14904, 14640]\n",
    "labels = ['na', 'Bronze', 'Silver', 'Gold']\n",
    "myexplode = [0.2, 0, 0, 0]\n",
    "plt.figure(figsize = (6, 6))\n",
    "plt.pie(sizes, labels = labels, autopct='%.2f%%',explode=(0.1, 0, 0, 0),\n",
    "        colors=['#D3B9DF','#90DAE0','#33FFA7', '#2451E0'])\n",
    "plt.show()"
   ]
  },
  {
   "cell_type": "markdown",
   "id": "6e45138c",
   "metadata": {},
   "source": [
    "As we can see above, the medal column has an approx. of 86 % data as not available. Accordint to the above diagram, it is safe to say that the largest chunk can be attributed to the people who did not win a medal. The NA values in this case are relevant."
   ]
  },
  {
   "cell_type": "markdown",
   "id": "8ac9e4be",
   "metadata": {},
   "source": [
    "### Data variance "
   ]
  },
  {
   "cell_type": "markdown",
   "id": "439514c9",
   "metadata": {},
   "source": [
    "#### Pos column"
   ]
  },
  {
   "cell_type": "code",
   "execution_count": null,
   "id": "deaffe30",
   "metadata": {},
   "outputs": [],
   "source": [
    "AER.tail()"
   ]
  },
  {
   "cell_type": "code",
   "execution_count": null,
   "id": "02a9ab91",
   "metadata": {},
   "outputs": [],
   "source": [
    "#[print(i) for i in AER['pos'].unique()]"
   ]
  },
  {
   "cell_type": "code",
   "execution_count": null,
   "id": "49e1608d",
   "metadata": {},
   "outputs": [],
   "source": [
    "Image(filename= \"Images/Olympics_pic.jpeg\", width =600, height = 600)"
   ]
  },
  {
   "cell_type": "markdown",
   "id": "9426952c",
   "metadata": {},
   "source": [
    "##### The pos column is a bit strange as I cannot interprate the results. => DNS => Did not start."
   ]
  },
  {
   "cell_type": "markdown",
   "id": "818671d7",
   "metadata": {},
   "source": [
    "### Olympic Results\n",
    "\n",
    "The result table is used to keep track of who won, what sport and in which location"
   ]
  },
  {
   "cell_type": "markdown",
   "id": "5c45f31b",
   "metadata": {},
   "source": [
    "##### Primary Key => resultID"
   ]
  },
  {
   "cell_type": "code",
   "execution_count": null,
   "id": "e4f30dc2",
   "metadata": {},
   "outputs": [],
   "source": [
    "path_Olympic_OlympicResults =\"Data\\Olympic_Results.csv\""
   ]
  },
  {
   "cell_type": "code",
   "execution_count": null,
   "id": "6685071b",
   "metadata": {},
   "outputs": [],
   "source": [
    "OR = pd.read_csv(path_Olympic_OlympicResults, sep =\",\")\n",
    "OR.head()"
   ]
  },
  {
   "cell_type": "markdown",
   "id": "b81f9fc0",
   "metadata": {},
   "source": [
    "In the above dataset, I would suggest dropping any columns that are not necessary in building a business case. These are:\n",
    "    sport_url, result_participants, result_format, result_description, "
   ]
  },
  {
   "cell_type": "code",
   "execution_count": null,
   "id": "a6305d4b",
   "metadata": {},
   "outputs": [],
   "source": [
    "OR[\"event_title\"].unique().shape"
   ]
  },
  {
   "cell_type": "markdown",
   "id": "e86474e3",
   "metadata": {},
   "source": [
    "Seeing that there are more that 1555 event titles, I would consider dropping this column too as a I dont see any "
   ]
  },
  {
   "cell_type": "code",
   "execution_count": null,
   "id": "866ecf63",
   "metadata": {},
   "outputs": [],
   "source": [
    "ORmod = OR.drop(columns = ['sport_url', 'result_participants', 'result_format', 'result_description', 'event_title'])\n",
    "ORmod.head()\n",
    "## OR modified"
   ]
  },
  {
   "cell_type": "markdown",
   "id": "63705a29",
   "metadata": {},
   "source": [
    "Here above shoud be IMO the final dataset for the olympic results."
   ]
  },
  {
   "cell_type": "markdown",
   "id": "3f05bcc5",
   "metadata": {},
   "source": [
    "##### Unavailable data\n",
    "StartDate, EndDate and Time"
   ]
  },
  {
   "cell_type": "code",
   "execution_count": null,
   "id": "b714093b",
   "metadata": {},
   "outputs": [],
   "source": [
    "naOR = ORmod.loc[np.logical_and(ORmod.start_date == \"na\", ORmod.end_date == \"na\", ORmod.time == \"na\")]\n",
    "naOR.head()"
   ]
  },
  {
   "cell_type": "code",
   "execution_count": null,
   "id": "2d088470",
   "metadata": {},
   "outputs": [],
   "source": []
  }
 ],
 "metadata": {
  "kernelspec": {
   "display_name": "Python 3 (ipykernel)",
   "language": "python",
   "name": "python3"
  },
  "language_info": {
   "codemirror_mode": {
    "name": "ipython",
    "version": 3
   },
   "file_extension": ".py",
   "mimetype": "text/x-python",
   "name": "python",
   "nbconvert_exporter": "python",
   "pygments_lexer": "ipython3",
   "version": "3.9.1"
  }
 },
 "nbformat": 4,
 "nbformat_minor": 5
}
