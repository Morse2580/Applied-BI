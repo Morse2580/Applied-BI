{
 "cells": [
  {
   "cell_type": "code",
   "execution_count": 1,
   "id": "05b68a9d",
   "metadata": {
    "scrolled": true
   },
   "outputs": [
    {
     "name": "stdout",
     "output_type": "stream",
     "text": [
      "Data\\Olympics_Country.csv\n",
      "Data\\Olympics_Games.csv\n",
      "Data\\Olympic_Athlete_Bio.csv\n",
      "Data\\Olympic_Athlete_Event_Results.csv\n",
      "Data\\Olympic_Results.csv\n",
      "Data\\Pipfile\n"
     ]
    }
   ],
   "source": [
    "import pandas as pd\n",
    "import numpy as np\n",
    "from IPython.display import Image\n",
    "import matplotlib.pyplot as plt\n",
    "import seaborn as sns\n",
    "\n",
    "import os\n",
    "for dirname, _, filenames in os.walk('Data'):\n",
    "    for filename in filenames:\n",
    "        print(os.path.join(dirname, filename))"
   ]
  },
  {
   "cell_type": "markdown",
   "id": "818671d7",
   "metadata": {},
   "source": [
    "### Olympic Results\n",
    "\n",
    "The result table is used to keep track of who won, what sport and in which location"
   ]
  },
  {
   "cell_type": "markdown",
   "id": "5c45f31b",
   "metadata": {},
   "source": [
    "##### Primary Key => resultID"
   ]
  },
  {
   "cell_type": "code",
   "execution_count": 2,
   "id": "e4f30dc2",
   "metadata": {},
   "outputs": [],
   "source": [
    "path_Olympic_OlympicResults =\"Data\\Olympic_Results.csv\""
   ]
  },
  {
   "cell_type": "code",
   "execution_count": 3,
   "id": "6685071b",
   "metadata": {
    "scrolled": true
   },
   "outputs": [
    {
     "data": {
      "text/html": [
       "<div>\n",
       "<style scoped>\n",
       "    .dataframe tbody tr th:only-of-type {\n",
       "        vertical-align: middle;\n",
       "    }\n",
       "\n",
       "    .dataframe tbody tr th {\n",
       "        vertical-align: top;\n",
       "    }\n",
       "\n",
       "    .dataframe thead th {\n",
       "        text-align: right;\n",
       "    }\n",
       "</style>\n",
       "<table border=\"1\" class=\"dataframe\">\n",
       "  <thead>\n",
       "    <tr style=\"text-align: right;\">\n",
       "      <th></th>\n",
       "      <th>result_id</th>\n",
       "      <th>event_title</th>\n",
       "      <th>edition</th>\n",
       "      <th>edition_id</th>\n",
       "      <th>sport</th>\n",
       "      <th>sport_url</th>\n",
       "      <th>result_location</th>\n",
       "      <th>result_participants</th>\n",
       "      <th>result_format</th>\n",
       "      <th>result_detail</th>\n",
       "      <th>result_description</th>\n",
       "      <th>start_date</th>\n",
       "      <th>end_date</th>\n",
       "      <th>time</th>\n",
       "    </tr>\n",
       "  </thead>\n",
       "  <tbody>\n",
       "    <tr>\n",
       "      <th>0</th>\n",
       "      <td>9270</td>\n",
       "      <td>7 metres, 1907 Rating, Open</td>\n",
       "      <td>1920 Summer Olympics</td>\n",
       "      <td>7</td>\n",
       "      <td>Sailing</td>\n",
       "      <td>/editions/7/sports/SAL</td>\n",
       "      <td>Oostende</td>\n",
       "      <td>8 from 2 countries</td>\n",
       "      <td>Three races, with final places decided by tota...</td>\n",
       "      <td>na</td>\n",
       "      <td>There were two yachts competing.  Britain’s An...</td>\n",
       "      <td>1920-07-07</td>\n",
       "      <td>1920-07-09</td>\n",
       "      <td>na</td>\n",
       "    </tr>\n",
       "    <tr>\n",
       "      <th>1</th>\n",
       "      <td>29722</td>\n",
       "      <td>Featherweight (≤60 kilograms), Men</td>\n",
       "      <td>1980 Summer Olympics</td>\n",
       "      <td>20</td>\n",
       "      <td>Weightlifting</td>\n",
       "      <td>/editions/20/sports/WLF</td>\n",
       "      <td>Dvorets sporta Izmaylovo, Moskva</td>\n",
       "      <td>18 from 14 countries</td>\n",
       "      <td>Total of best lifts in snatch and clean &amp; jerk...</td>\n",
       "      <td>na</td>\n",
       "      <td>The favorite was likely Soviet Viktor Mazin wh...</td>\n",
       "      <td>1980-07-22</td>\n",
       "      <td>na</td>\n",
       "      <td>14:00-19:00</td>\n",
       "    </tr>\n",
       "    <tr>\n",
       "      <th>2</th>\n",
       "      <td>54126</td>\n",
       "      <td>Platform, Men</td>\n",
       "      <td>1948 Summer Olympics</td>\n",
       "      <td>12</td>\n",
       "      <td>Diving</td>\n",
       "      <td>/editions/12/sports/DIV</td>\n",
       "      <td>Wembley Arena, Wembley, London</td>\n",
       "      <td>25 from 15 countries</td>\n",
       "      <td>10 metre platform. Final round only. Four comp...</td>\n",
       "      <td>na</td>\n",
       "      <td>Sammy Lee won this event, leading in both the ...</td>\n",
       "      <td>1948-08-04</td>\n",
       "      <td>1948-08-05</td>\n",
       "      <td>na</td>\n",
       "    </tr>\n",
       "    <tr>\n",
       "      <th>3</th>\n",
       "      <td>4684</td>\n",
       "      <td>100 metres Backstroke, Men</td>\n",
       "      <td>1920 Summer Olympics</td>\n",
       "      <td>7</td>\n",
       "      <td>Swimming</td>\n",
       "      <td>/editions/7/sports/SWM</td>\n",
       "      <td>Zwemstadion van Antwerpen, Antwerpen</td>\n",
       "      <td>12 from 6 countries</td>\n",
       "      <td>na</td>\n",
       "      <td>na</td>\n",
       "      <td>Watten Paoa Kealoha set a world record of 1:14...</td>\n",
       "      <td>1920-08-22</td>\n",
       "      <td>1920-08-23</td>\n",
       "      <td>na</td>\n",
       "    </tr>\n",
       "    <tr>\n",
       "      <th>4</th>\n",
       "      <td>1465</td>\n",
       "      <td>Slalom, Men</td>\n",
       "      <td>2002 Winter Olympics</td>\n",
       "      <td>47</td>\n",
       "      <td>Alpine Skiing</td>\n",
       "      <td>/editions/47/sports/ALP</td>\n",
       "      <td>Park City Mountain Resort, Park City, Utah (Kn...</td>\n",
       "      <td>77 from 43 countries</td>\n",
       "      <td>Two runs, total time determined placement.</td>\n",
       "      <td>Jesse Hunt</td>\n",
       "      <td>The last few World Cups had gone to Austrian B...</td>\n",
       "      <td>2002-02-23</td>\n",
       "      <td>na</td>\n",
       "      <td>na</td>\n",
       "    </tr>\n",
       "  </tbody>\n",
       "</table>\n",
       "</div>"
      ],
      "text/plain": [
       "   result_id                         event_title               edition  \\\n",
       "0       9270         7 metres, 1907 Rating, Open  1920 Summer Olympics   \n",
       "1      29722  Featherweight (≤60 kilograms), Men  1980 Summer Olympics   \n",
       "2      54126                       Platform, Men  1948 Summer Olympics   \n",
       "3       4684          100 metres Backstroke, Men  1920 Summer Olympics   \n",
       "4       1465                         Slalom, Men  2002 Winter Olympics   \n",
       "\n",
       "   edition_id          sport                sport_url  \\\n",
       "0           7        Sailing   /editions/7/sports/SAL   \n",
       "1          20  Weightlifting  /editions/20/sports/WLF   \n",
       "2          12         Diving  /editions/12/sports/DIV   \n",
       "3           7       Swimming   /editions/7/sports/SWM   \n",
       "4          47  Alpine Skiing  /editions/47/sports/ALP   \n",
       "\n",
       "                                     result_location   result_participants  \\\n",
       "0                                           Oostende    8 from 2 countries   \n",
       "1                   Dvorets sporta Izmaylovo, Moskva  18 from 14 countries   \n",
       "2                     Wembley Arena, Wembley, London  25 from 15 countries   \n",
       "3               Zwemstadion van Antwerpen, Antwerpen   12 from 6 countries   \n",
       "4  Park City Mountain Resort, Park City, Utah (Kn...  77 from 43 countries   \n",
       "\n",
       "                                       result_format result_detail  \\\n",
       "0  Three races, with final places decided by tota...            na   \n",
       "1  Total of best lifts in snatch and clean & jerk...            na   \n",
       "2  10 metre platform. Final round only. Four comp...            na   \n",
       "3                                                 na            na   \n",
       "4         Two runs, total time determined placement.    Jesse Hunt   \n",
       "\n",
       "                                  result_description  start_date    end_date  \\\n",
       "0  There were two yachts competing.  Britain’s An...  1920-07-07  1920-07-09   \n",
       "1  The favorite was likely Soviet Viktor Mazin wh...  1980-07-22          na   \n",
       "2  Sammy Lee won this event, leading in both the ...  1948-08-04  1948-08-05   \n",
       "3  Watten Paoa Kealoha set a world record of 1:14...  1920-08-22  1920-08-23   \n",
       "4  The last few World Cups had gone to Austrian B...  2002-02-23          na   \n",
       "\n",
       "          time  \n",
       "0           na  \n",
       "1  14:00-19:00  \n",
       "2           na  \n",
       "3           na  \n",
       "4           na  "
      ]
     },
     "execution_count": 3,
     "metadata": {},
     "output_type": "execute_result"
    }
   ],
   "source": [
    "OR = pd.read_csv(path_Olympic_OlympicResults, sep =\",\")\n",
    "OR.head()"
   ]
  },
  {
   "cell_type": "code",
   "execution_count": 22,
   "id": "6b3bd02f",
   "metadata": {},
   "outputs": [
    {
     "data": {
      "text/plain": [
       "(55,)"
      ]
     },
     "execution_count": 22,
     "metadata": {},
     "output_type": "execute_result"
    }
   ],
   "source": [
    "OR.edition.unique().shape\n",
    "# The olympics datasetis for summer olympics  from 1920 and 2022\n",
    "# The Summer Olympic Games and Winter Olympic Games are each held every four years"
   ]
  },
  {
   "cell_type": "code",
   "execution_count": 17,
   "id": "ff94e7e6",
   "metadata": {},
   "outputs": [
    {
     "name": "stdout",
     "output_type": "stream",
     "text": [
      "<class 'pandas.core.frame.DataFrame'>\n",
      "RangeIndex: 7329 entries, 0 to 7328\n",
      "Data columns (total 14 columns):\n",
      " #   Column               Non-Null Count  Dtype \n",
      "---  ------               --------------  ----- \n",
      " 0   result_id            7329 non-null   int64 \n",
      " 1   event_title          7329 non-null   object\n",
      " 2   edition              7329 non-null   object\n",
      " 3   edition_id           7329 non-null   int64 \n",
      " 4   sport                7329 non-null   object\n",
      " 5   sport_url            7329 non-null   object\n",
      " 6   result_location      7329 non-null   object\n",
      " 7   result_participants  7329 non-null   object\n",
      " 8   result_format        7329 non-null   object\n",
      " 9   result_detail        7329 non-null   object\n",
      " 10  result_description   7329 non-null   object\n",
      " 11  start_date           7329 non-null   object\n",
      " 12  end_date             7329 non-null   object\n",
      " 13  time                 7329 non-null   object\n",
      "dtypes: int64(2), object(12)\n",
      "memory usage: 801.7+ KB\n"
     ]
    }
   ],
   "source": [
    "OR.info()\n",
    "# Does not have any null"
   ]
  },
  {
   "cell_type": "code",
   "execution_count": 12,
   "id": "5e8701b8",
   "metadata": {},
   "outputs": [
    {
     "data": {
      "text/plain": [
       "(7329, 14)"
      ]
     },
     "execution_count": 12,
     "metadata": {},
     "output_type": "execute_result"
    }
   ],
   "source": [
    "# Size of the dataset\n",
    "OR.shape"
   ]
  },
  {
   "cell_type": "markdown",
   "id": "b88ccd33",
   "metadata": {},
   "source": [
    "#### Necessary Columns"
   ]
  },
  {
   "cell_type": "markdown",
   "id": "b81f9fc0",
   "metadata": {},
   "source": [
    "In the above dataset, I would suggest dropping any columns that are not necessary in building a business case. These are:\n",
    "    sport_url, result_participants, result_format, result_description, "
   ]
  },
  {
   "cell_type": "code",
   "execution_count": 4,
   "id": "a6305d4b",
   "metadata": {},
   "outputs": [
    {
     "data": {
      "text/plain": [
       "(1555,)"
      ]
     },
     "execution_count": 4,
     "metadata": {},
     "output_type": "execute_result"
    }
   ],
   "source": [
    "OR[\"event_title\"].unique().shape"
   ]
  },
  {
   "cell_type": "markdown",
   "id": "e86474e3",
   "metadata": {},
   "source": [
    "Seeing that there are more that 1555 event titles, I would consider dropping this column too as a I dont see any "
   ]
  },
  {
   "cell_type": "code",
   "execution_count": 5,
   "id": "866ecf63",
   "metadata": {},
   "outputs": [
    {
     "data": {
      "text/html": [
       "<div>\n",
       "<style scoped>\n",
       "    .dataframe tbody tr th:only-of-type {\n",
       "        vertical-align: middle;\n",
       "    }\n",
       "\n",
       "    .dataframe tbody tr th {\n",
       "        vertical-align: top;\n",
       "    }\n",
       "\n",
       "    .dataframe thead th {\n",
       "        text-align: right;\n",
       "    }\n",
       "</style>\n",
       "<table border=\"1\" class=\"dataframe\">\n",
       "  <thead>\n",
       "    <tr style=\"text-align: right;\">\n",
       "      <th></th>\n",
       "      <th>result_id</th>\n",
       "      <th>edition</th>\n",
       "      <th>edition_id</th>\n",
       "      <th>sport</th>\n",
       "      <th>result_location</th>\n",
       "      <th>result_detail</th>\n",
       "      <th>start_date</th>\n",
       "      <th>end_date</th>\n",
       "      <th>time</th>\n",
       "    </tr>\n",
       "  </thead>\n",
       "  <tbody>\n",
       "    <tr>\n",
       "      <th>0</th>\n",
       "      <td>9270</td>\n",
       "      <td>1920 Summer Olympics</td>\n",
       "      <td>7</td>\n",
       "      <td>Sailing</td>\n",
       "      <td>Oostende</td>\n",
       "      <td>na</td>\n",
       "      <td>1920-07-07</td>\n",
       "      <td>1920-07-09</td>\n",
       "      <td>na</td>\n",
       "    </tr>\n",
       "    <tr>\n",
       "      <th>1</th>\n",
       "      <td>29722</td>\n",
       "      <td>1980 Summer Olympics</td>\n",
       "      <td>20</td>\n",
       "      <td>Weightlifting</td>\n",
       "      <td>Dvorets sporta Izmaylovo, Moskva</td>\n",
       "      <td>na</td>\n",
       "      <td>1980-07-22</td>\n",
       "      <td>na</td>\n",
       "      <td>14:00-19:00</td>\n",
       "    </tr>\n",
       "    <tr>\n",
       "      <th>2</th>\n",
       "      <td>54126</td>\n",
       "      <td>1948 Summer Olympics</td>\n",
       "      <td>12</td>\n",
       "      <td>Diving</td>\n",
       "      <td>Wembley Arena, Wembley, London</td>\n",
       "      <td>na</td>\n",
       "      <td>1948-08-04</td>\n",
       "      <td>1948-08-05</td>\n",
       "      <td>na</td>\n",
       "    </tr>\n",
       "    <tr>\n",
       "      <th>3</th>\n",
       "      <td>4684</td>\n",
       "      <td>1920 Summer Olympics</td>\n",
       "      <td>7</td>\n",
       "      <td>Swimming</td>\n",
       "      <td>Zwemstadion van Antwerpen, Antwerpen</td>\n",
       "      <td>na</td>\n",
       "      <td>1920-08-22</td>\n",
       "      <td>1920-08-23</td>\n",
       "      <td>na</td>\n",
       "    </tr>\n",
       "    <tr>\n",
       "      <th>4</th>\n",
       "      <td>1465</td>\n",
       "      <td>2002 Winter Olympics</td>\n",
       "      <td>47</td>\n",
       "      <td>Alpine Skiing</td>\n",
       "      <td>Park City Mountain Resort, Park City, Utah (Kn...</td>\n",
       "      <td>Jesse Hunt</td>\n",
       "      <td>2002-02-23</td>\n",
       "      <td>na</td>\n",
       "      <td>na</td>\n",
       "    </tr>\n",
       "  </tbody>\n",
       "</table>\n",
       "</div>"
      ],
      "text/plain": [
       "   result_id               edition  edition_id          sport  \\\n",
       "0       9270  1920 Summer Olympics           7        Sailing   \n",
       "1      29722  1980 Summer Olympics          20  Weightlifting   \n",
       "2      54126  1948 Summer Olympics          12         Diving   \n",
       "3       4684  1920 Summer Olympics           7       Swimming   \n",
       "4       1465  2002 Winter Olympics          47  Alpine Skiing   \n",
       "\n",
       "                                     result_location result_detail  \\\n",
       "0                                           Oostende            na   \n",
       "1                   Dvorets sporta Izmaylovo, Moskva            na   \n",
       "2                     Wembley Arena, Wembley, London            na   \n",
       "3               Zwemstadion van Antwerpen, Antwerpen            na   \n",
       "4  Park City Mountain Resort, Park City, Utah (Kn...    Jesse Hunt   \n",
       "\n",
       "   start_date    end_date         time  \n",
       "0  1920-07-07  1920-07-09           na  \n",
       "1  1980-07-22          na  14:00-19:00  \n",
       "2  1948-08-04  1948-08-05           na  \n",
       "3  1920-08-22  1920-08-23           na  \n",
       "4  2002-02-23          na           na  "
      ]
     },
     "execution_count": 5,
     "metadata": {},
     "output_type": "execute_result"
    }
   ],
   "source": [
    "ORmod = OR.drop(columns = ['sport_url', 'result_participants', 'result_format', 'result_description', 'event_title'])\n",
    "ORmod.head()\n",
    "## OR modified"
   ]
  },
  {
   "cell_type": "markdown",
   "id": "63705a29",
   "metadata": {},
   "source": [
    "Here above shoud be IMO the final dataset for the olympic results."
   ]
  },
  {
   "cell_type": "markdown",
   "id": "3f05bcc5",
   "metadata": {},
   "source": [
    "##### Unavailable data\n",
    "StartDate, EndDate and Time"
   ]
  },
  {
   "cell_type": "code",
   "execution_count": 13,
   "id": "b714093b",
   "metadata": {},
   "outputs": [
    {
     "data": {
      "text/html": [
       "<div>\n",
       "<style scoped>\n",
       "    .dataframe tbody tr th:only-of-type {\n",
       "        vertical-align: middle;\n",
       "    }\n",
       "\n",
       "    .dataframe tbody tr th {\n",
       "        vertical-align: top;\n",
       "    }\n",
       "\n",
       "    .dataframe thead th {\n",
       "        text-align: right;\n",
       "    }\n",
       "</style>\n",
       "<table border=\"1\" class=\"dataframe\">\n",
       "  <thead>\n",
       "    <tr style=\"text-align: right;\">\n",
       "      <th></th>\n",
       "      <th>result_id</th>\n",
       "      <th>edition</th>\n",
       "      <th>edition_id</th>\n",
       "      <th>sport</th>\n",
       "      <th>result_location</th>\n",
       "      <th>result_detail</th>\n",
       "      <th>start_date</th>\n",
       "      <th>end_date</th>\n",
       "      <th>time</th>\n",
       "    </tr>\n",
       "  </thead>\n",
       "  <tbody>\n",
       "    <tr>\n",
       "      <th>0</th>\n",
       "      <td>9270</td>\n",
       "      <td>1920 Summer Olympics</td>\n",
       "      <td>7</td>\n",
       "      <td>Sailing</td>\n",
       "      <td>Oostende</td>\n",
       "      <td>na</td>\n",
       "      <td>1920-07-07</td>\n",
       "      <td>1920-07-09</td>\n",
       "      <td>na</td>\n",
       "    </tr>\n",
       "    <tr>\n",
       "      <th>1</th>\n",
       "      <td>29722</td>\n",
       "      <td>1980 Summer Olympics</td>\n",
       "      <td>20</td>\n",
       "      <td>Weightlifting</td>\n",
       "      <td>Dvorets sporta Izmaylovo, Moskva</td>\n",
       "      <td>na</td>\n",
       "      <td>1980-07-22</td>\n",
       "      <td>na</td>\n",
       "      <td>14:00-19:00</td>\n",
       "    </tr>\n",
       "    <tr>\n",
       "      <th>2</th>\n",
       "      <td>54126</td>\n",
       "      <td>1948 Summer Olympics</td>\n",
       "      <td>12</td>\n",
       "      <td>Diving</td>\n",
       "      <td>Wembley Arena, Wembley, London</td>\n",
       "      <td>na</td>\n",
       "      <td>1948-08-04</td>\n",
       "      <td>1948-08-05</td>\n",
       "      <td>na</td>\n",
       "    </tr>\n",
       "    <tr>\n",
       "      <th>3</th>\n",
       "      <td>4684</td>\n",
       "      <td>1920 Summer Olympics</td>\n",
       "      <td>7</td>\n",
       "      <td>Swimming</td>\n",
       "      <td>Zwemstadion van Antwerpen, Antwerpen</td>\n",
       "      <td>na</td>\n",
       "      <td>1920-08-22</td>\n",
       "      <td>1920-08-23</td>\n",
       "      <td>na</td>\n",
       "    </tr>\n",
       "    <tr>\n",
       "      <th>5</th>\n",
       "      <td>54255</td>\n",
       "      <td>1992 Summer Olympics</td>\n",
       "      <td>23</td>\n",
       "      <td>Diving</td>\n",
       "      <td>Piscina Municipal de Montjuïc, Barcelona</td>\n",
       "      <td>na</td>\n",
       "      <td>1992-08-02</td>\n",
       "      <td>1992-08-03</td>\n",
       "      <td>na</td>\n",
       "    </tr>\n",
       "  </tbody>\n",
       "</table>\n",
       "</div>"
      ],
      "text/plain": [
       "   result_id               edition  edition_id          sport  \\\n",
       "0       9270  1920 Summer Olympics           7        Sailing   \n",
       "1      29722  1980 Summer Olympics          20  Weightlifting   \n",
       "2      54126  1948 Summer Olympics          12         Diving   \n",
       "3       4684  1920 Summer Olympics           7       Swimming   \n",
       "5      54255  1992 Summer Olympics          23         Diving   \n",
       "\n",
       "                            result_location result_detail  start_date  \\\n",
       "0                                  Oostende            na  1920-07-07   \n",
       "1          Dvorets sporta Izmaylovo, Moskva            na  1980-07-22   \n",
       "2            Wembley Arena, Wembley, London            na  1948-08-04   \n",
       "3      Zwemstadion van Antwerpen, Antwerpen            na  1920-08-22   \n",
       "5  Piscina Municipal de Montjuïc, Barcelona            na  1992-08-02   \n",
       "\n",
       "     end_date         time  \n",
       "0  1920-07-09           na  \n",
       "1          na  14:00-19:00  \n",
       "2  1948-08-05           na  \n",
       "3  1920-08-23           na  \n",
       "5  1992-08-03           na  "
      ]
     },
     "execution_count": 13,
     "metadata": {},
     "output_type": "execute_result"
    }
   ],
   "source": [
    "#naOR = ORmod.loc[np.logical_and(ORmod.start_date == \"na\", ORmod.end_date == \"na\", ORmod.time == \"na\")]\n",
    "naOR = ORmod.loc[ORmod.result_detail == \"na\"]\n",
    "naOR.head()"
   ]
  },
  {
   "cell_type": "code",
   "execution_count": 11,
   "id": "c1cd6a64",
   "metadata": {},
   "outputs": [
    {
     "data": {
      "text/plain": [
       "(5719, 9)"
      ]
     },
     "execution_count": 11,
     "metadata": {},
     "output_type": "execute_result"
    }
   ],
   "source": [
    "naOR.shape"
   ]
  },
  {
   "cell_type": "markdown",
   "id": "b0244645",
   "metadata": {},
   "source": [
    "I find it strange that the result table that is supposed to have the result for which athlete won a "
   ]
  },
  {
   "cell_type": "code",
   "execution_count": 18,
   "id": "2d088470",
   "metadata": {},
   "outputs": [
    {
     "name": "stdout",
     "output_type": "stream",
     "text": [
      "0.7803247373447947\n"
     ]
    }
   ],
   "source": [
    "print(5719/7329)"
   ]
  },
  {
   "cell_type": "code",
   "execution_count": null,
   "id": "351c2018",
   "metadata": {},
   "outputs": [],
   "source": []
  }
 ],
 "metadata": {
  "kernelspec": {
   "display_name": "Python 3 (ipykernel)",
   "language": "python",
   "name": "python3"
  },
  "language_info": {
   "codemirror_mode": {
    "name": "ipython",
    "version": 3
   },
   "file_extension": ".py",
   "mimetype": "text/x-python",
   "name": "python",
   "nbconvert_exporter": "python",
   "pygments_lexer": "ipython3",
   "version": "3.9.1"
  }
 },
 "nbformat": 4,
 "nbformat_minor": 5
}
